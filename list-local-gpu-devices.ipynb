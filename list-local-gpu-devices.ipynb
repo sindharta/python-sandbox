{
 "cells": [
  {
   "cell_type": "code",
   "execution_count": null,
   "metadata": {},
   "outputs": [],
   "source": [
    "from tensorflow.python.client import device_lib\n",
    "print(device_lib.list_local_devices())\n",
    "\n",
    "import tensorflow as tf\n",
    "print(\"Num GPUs Available: \", len(tf.config.list_physical_devices('GPU')))\n",
    "\n"
   ]
  },
  {
   "cell_type": "code",
   "execution_count": null,
   "metadata": {},
   "outputs": [],
   "source": [
    "import torch\n",
    "print(\"Torch. CUDA is available ?\", torch.cuda.is_available())\n",
    "print(\"Torch. CUDA Device count: \", torch.cuda.device_count())\n",
    "print(\"Torch. CUDA Device 0: ?\", torch.cuda.device(0))\n",
    "print(\"Torch. CUDA Device 0 Name:\", torch.cuda.get_device_name(0))\n",
    "\n"
   ]
  },
  {
   "cell_type": "code",
   "execution_count": null,
   "metadata": {},
   "outputs": [],
   "source": [
    "import torch \n",
    "torch.zeros(1).cuda()"
   ]
  }
 ],
 "metadata": {
  "kernelspec": {
   "display_name": "Stable Diffusion with Python 3.10",
   "language": "python",
   "name": "sd_3.10"
  },
  "language_info": {
   "codemirror_mode": {
    "name": "ipython",
    "version": 3
   },
   "file_extension": ".py",
   "mimetype": "text/x-python",
   "name": "python",
   "nbconvert_exporter": "python",
   "pygments_lexer": "ipython3",
   "version": "3.10.12"
  }
 },
 "nbformat": 4,
 "nbformat_minor": 4
}
