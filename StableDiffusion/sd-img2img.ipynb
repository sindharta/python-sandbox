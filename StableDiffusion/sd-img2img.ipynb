{
 "cells": [
  {
   "cell_type": "code",
   "execution_count": null,
   "id": "cf263222-3c0a-4dfc-a877-3ad57b56b065",
   "metadata": {},
   "outputs": [],
   "source": [
    "from diffusers import DDIMScheduler, StableDiffusionImg2ImgPipeline\n",
    "import PIL\n",
    "from PIL import Image\n",
    "import torch\n",
    "from torch import autocast\n",
    "import matplotlib.image as mpimg\n",
    "import matplotlib.pyplot as plt\n"
   ]
  },
  {
   "cell_type": "code",
   "execution_count": null,
   "id": "030f760a-8c2e-4b30-ad9e-f18ab8f1a292",
   "metadata": {},
   "outputs": [],
   "source": [
    "WIDTH = 512\n",
    "HEIGHT = 512\n",
    "\n",
    "def process_image(image_path):\n",
    "    width, height = map(lambda x: x - x % 32, (WIDTH, HEIGHT))\n",
    "    image = Image.open(image_path).convert(\"RGB\").resize((width, height))\n",
    "    return image"
   ]
  },
  {
   "cell_type": "code",
   "execution_count": null,
   "id": "1462cc96-e91a-4137-8ee6-5d4ef5aea9fe",
   "metadata": {},
   "outputs": [],
   "source": [
    "image = process_image(\"person-tired-notebook.png\")\n",
    "image.show()"
   ]
  },
  {
   "cell_type": "code",
   "execution_count": null,
   "id": "d011beba-f851-4c03-92c6-fed3cae0cb04",
   "metadata": {},
   "outputs": [],
   "source": [
    "plt.imshow(image)\n",
    "plt.axis('off')\n",
    "plt.colorbar()"
   ]
  },
  {
   "cell_type": "code",
   "execution_count": null,
   "id": "27cac8ce-32c0-4d78-9391-abc60b837b12",
   "metadata": {},
   "outputs": [],
   "source": [
    "\n",
    "scheduler = DDIMScheduler(beta_start = 0.0005,\n",
    "                          beta_schedule = \"scaled_linear\",\n",
    "                          clip_sample = False,\n",
    "                          set_alpha_to_one = False,\n",
    "                          steps_offset = 1)\n",
    "\n",
    "model = StableDiffusionImg2ImgPipeline.from_pretrained(\n",
    "    \"runwayml/stable-diffusion-v1-5\",\n",
    "    scheduler = scheduler,\n",
    "    revision = \"fp16\"\n",
    ")\n",
    "model = model.to(\"cuda\")\n",
    "\n"
   ]
  },
  {
   "cell_type": "code",
   "execution_count": null,
   "id": "84c49b84-e86d-4245-bf21-bac3678b1f83",
   "metadata": {},
   "outputs": [],
   "source": []
  },
  {
   "cell_type": "code",
   "execution_count": null,
   "id": "44dd9838-2103-4c0c-9fc2-6a18964d52d9",
   "metadata": {},
   "outputs": [],
   "source": [
    "\n",
    "generator = torch.Generator(device = \"cuda\").manual_seed(42)\n",
    "\n",
    "with autocast(\"cuda\"):\n",
    "   output = model(\n",
    "       prompt = '''A man sitting on a chair in front of a table with his head on a laptop,\n",
    "           a potted plant behind the laptop.''',\n",
    "       image = image,\n",
    "       num_inference_steps = 30,\n",
    "       strength = 0.9,\n",
    "       guidance_scale = 9,\n",
    "       generator = generator \n",
    "   )\n",
    "\n",
    "   print(output)\n",
    "\n",
    "    "
   ]
  },
  {
   "cell_type": "code",
   "execution_count": null,
   "id": "7b46a4ff-424b-44a2-a9e0-4170a7315791",
   "metadata": {},
   "outputs": [],
   "source": [
    "plt.imshow(output.images[0])\n",
    "plt.axis('off')\n",
    "plt.colorbar()"
   ]
  }
 ],
 "metadata": {
  "kernelspec": {
   "display_name": "Python 3 (ipykernel)",
   "language": "python",
   "name": "python3"
  },
  "language_info": {
   "codemirror_mode": {
    "name": "ipython",
    "version": 3
   },
   "file_extension": ".py",
   "mimetype": "text/x-python",
   "name": "python",
   "nbconvert_exporter": "python",
   "pygments_lexer": "ipython3",
   "version": "3.10.12"
  }
 },
 "nbformat": 4,
 "nbformat_minor": 5
}
