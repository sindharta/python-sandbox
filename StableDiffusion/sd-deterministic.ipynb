{
 "cells": [
  {
   "cell_type": "code",
   "execution_count": null,
   "id": "abc3286a-29b3-40eb-9aca-4262b1492190",
   "metadata": {},
   "outputs": [],
   "source": [
    "from diffusers import DiffusionPipeline\n",
    "import torch \n",
    "from torch import autocast\n",
    "import matplotlib.image as mpimg\n",
    "import matplotlib.pyplot as plt\n",
    "\n"
   ]
  },
  {
   "cell_type": "code",
   "execution_count": null,
   "id": "3717cc6b-1be9-4770-b4ba-6a18e8e575cd",
   "metadata": {},
   "outputs": [],
   "source": [
    "\n",
    "# This will download files to ~\\.cache\\huggingface\\diffusers\n",
    "model = DiffusionPipeline.from_pretrained(\"runwayml/stable-diffusion-v1-5\", revision=\"fp16\", torch_dtype=torch.float16)\n",
    "\n",
    "model = model.to(\"cuda\")\n",
    "model.enable_attention_slicing()\n"
   ]
  },
  {
   "cell_type": "code",
   "execution_count": null,
   "id": "0428b5d9-66a9-431f-953d-fe2ac386d43c",
   "metadata": {},
   "outputs": [],
   "source": [
    "\n",
    "generator = torch.Generator(\"cuda\").manual_seed(1024)\n",
    "with autocast(\"cuda\"):\n",
    "    output = model(\"mario and sonic\", guidance_scale=7.5, num_inference_steps=15, generator=generator)\n",
    "\n",
    "output_image = output.images[0]"
   ]
  },
  {
   "cell_type": "code",
   "execution_count": null,
   "id": "103f54b7-f4b5-4b60-855f-4f1388327631",
   "metadata": {},
   "outputs": [],
   "source": [
    "plt.imshow(output_image)\n",
    "plt.axis('off')\n",
    "plt.colorbar()\n"
   ]
  },
  {
   "cell_type": "code",
   "execution_count": 27,
   "id": "ceaf08fb-5646-4fc2-9633-3f0ae56aa6c2",
   "metadata": {},
   "outputs": [],
   "source": [
    "output_image.save(\"MarioAndSonic.png\", format=\"PNG\")"
   ]
  },
  {
   "cell_type": "markdown",
   "id": "dad097bf-9935-43be-a357-ec85fa3411a9",
   "metadata": {},
   "source": [
    "# "
   ]
  },
  {
   "cell_type": "code",
   "execution_count": null,
   "id": "d56a71e8-fe06-4ddf-ba5f-e1a796c06a36",
   "metadata": {},
   "outputs": [],
   "source": []
  }
 ],
 "metadata": {
  "kernelspec": {
   "display_name": "Stable Diffusion with Python 3.10",
   "language": "python",
   "name": "sd_3.10"
  },
  "language_info": {
   "codemirror_mode": {
    "name": "ipython",
    "version": 3
   },
   "file_extension": ".py",
   "mimetype": "text/x-python",
   "name": "python",
   "nbconvert_exporter": "python",
   "pygments_lexer": "ipython3",
   "version": "3.10.12"
  }
 },
 "nbformat": 4,
 "nbformat_minor": 5
}
