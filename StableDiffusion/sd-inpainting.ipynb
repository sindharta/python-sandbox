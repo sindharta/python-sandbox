{
 "cells": [
  {
   "cell_type": "code",
   "execution_count": null,
   "id": "d7338098-2793-439c-9794-35d2bb9dd1cb",
   "metadata": {},
   "outputs": [],
   "source": [
    "from diffusers import DDIMScheduler, StableDiffusionInpaintPipeline\n",
    "import PIL\n",
    "from PIL import Image\n",
    "import torch\n",
    "from torch import autocast\n",
    "import matplotlib.image as mpimg\n",
    "import matplotlib.pyplot as plt"
   ]
  },
  {
   "cell_type": "code",
   "execution_count": null,
   "id": "bfc51dd5-00ca-457f-9eca-74e287f8e1f3",
   "metadata": {},
   "outputs": [],
   "source": [
    "original = PIL.Image.open(\"rabbit.png\")\n",
    "plt.imshow(original)\n",
    "plt.axis('off')"
   ]
  },
  {
   "cell_type": "code",
   "execution_count": null,
   "id": "9b3ee9a4-76e9-49b8-92b5-8d78e0b87ff6",
   "metadata": {},
   "outputs": [],
   "source": [
    "mask = PIL.Image.open(\"rabbit-mask.png\")\n",
    "plt.imshow(mask)\n",
    "plt.axis('off')"
   ]
  },
  {
   "cell_type": "code",
   "execution_count": null,
   "id": "8a28765b-b049-41a3-98a0-33a771606da0",
   "metadata": {},
   "outputs": [],
   "source": [
    "model = StableDiffusionInpaintPipeline.from_pretrained(\n",
    "    \"runwayml/stable-diffusion-v1-5\",\n",
    "    torch_dtype = torch.float16\n",
    ")\n",
    "model = model.to(\"cuda\")\n"
   ]
  },
  {
   "cell_type": "code",
   "execution_count": null,
   "id": "b0b54cc4-bc55-468d-8b46-f0bf4b378a47",
   "metadata": {},
   "outputs": [],
   "source": [
    "generator = torch.Generator(\"cuda\").manual_seed(33)\n",
    "output = model(prompt = '''\n",
    "    A dog sitting on a plank of wood in a grassy field,\n",
    "    high resolution, photograph, photorealistic \n",
    "  '''\n",
    "  ,image = original\n",
    "  ,mask_image = mask\n",
    "  ,generator=generator               \n",
    ")\n",
    "output_image = output.images[0]"
   ]
  },
  {
   "cell_type": "code",
   "execution_count": null,
   "id": "2de79ff2-dddb-4814-a6f2-e7719010bb4a",
   "metadata": {},
   "outputs": [],
   "source": [
    "plt.imshow(output_image)\n",
    "plt.axis('off')"
   ]
  },
  {
   "cell_type": "code",
   "execution_count": null,
   "id": "1d952586-0acb-46a8-b53b-c8d88283c92f",
   "metadata": {},
   "outputs": [],
   "source": []
  }
 ],
 "metadata": {
  "kernelspec": {
   "display_name": "Python 3 (ipykernel)",
   "language": "python",
   "name": "python3"
  },
  "language_info": {
   "codemirror_mode": {
    "name": "ipython",
    "version": 3
   },
   "file_extension": ".py",
   "mimetype": "text/x-python",
   "name": "python",
   "nbconvert_exporter": "python",
   "pygments_lexer": "ipython3",
   "version": "3.10.12"
  }
 },
 "nbformat": 4,
 "nbformat_minor": 5
}
