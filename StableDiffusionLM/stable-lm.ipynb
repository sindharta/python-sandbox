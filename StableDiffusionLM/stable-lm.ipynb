{
 "cells": [
  {
   "cell_type": "code",
   "execution_count": null,
   "id": "505281f1-9d9c-4653-acd2-751ccb2304f1",
   "metadata": {},
   "outputs": [],
   "source": [
    "# Reference: https://github.com/Stability-AI/StableLM\n"
   ]
  },
  {
   "cell_type": "code",
   "execution_count": null,
   "id": "5fc286d0-2308-42d7-84c8-a97f2339f795",
   "metadata": {},
   "outputs": [],
   "source": [
    "# Setup\n",
    "import torch\n",
    "from transformers import AutoModelForCausalLM, AutoTokenizer, StoppingCriteria, StoppingCriteriaList\n",
    "\n",
    "from IPython.display import Markdown, display\n",
    "def hr(): display(Markdown('---'))\n",
    "def cprint(msg: str, color: str = \"blue\", **kwargs) -> None:\n",
    "    color_codes = {\n",
    "        \"blue\": \"\\033[34m\",\n",
    "        \"red\": \"\\033[31m\",\n",
    "        \"green\": \"\\033[32m\",\n",
    "        \"yellow\": \"\\033[33m\",\n",
    "        \"purple\": \"\\033[35m\",\n",
    "        \"cyan\": \"\\033[36m\",\n",
    "    }\n",
    "    \n",
    "    if color not in color_codes:\n",
    "        raise ValueError(f\"Invalid info color: `{color}`\")\n",
    "    \n",
    "    print(color_codes[color] + msg + \"\\033[0m\", **kwargs)\n",
    "\n",
    "class StopOnTokens(StoppingCriteria):\n",
    "    def __call__(self, input_ids: torch.LongTensor, scores: torch.FloatTensor, **kwargs) -> bool:\n",
    "        stop_ids = [50278, 50279, 50277, 1, 0]\n",
    "        for stop_id in stop_ids:\n",
    "            if input_ids[0][-1] == stop_id:\n",
    "                return True\n",
    "        return False\n"
   ]
  },
  {
   "cell_type": "code",
   "execution_count": null,
   "id": "50ebc177-c44c-46a6-9d74-2022466d03d6",
   "metadata": {},
   "outputs": [],
   "source": [
    "#@title Pick Your Model\n",
    "#@markdown Refer to Hugging Face docs for more information the parameters below: https://huggingface.co/docs/transformers/main/en/main_classes/model#transformers.PreTrainedModel.from_pretrained\n",
    "\n",
    "# Choose model name\n",
    "model_name = \"stabilityai/stablelm-tuned-alpha-7b\" #@param [\"stabilityai/stablelm-tuned-alpha-7b\", \"stabilityai/stablelm-base-alpha-7b\", \"stabilityai/stablelm-tuned-alpha-3b\", \"stabilityai/stablelm-base-alpha-3b\"]\n",
    "\n",
    "cprint(f\"Using `{model_name}`\", color=\"blue\")\n",
    "\n",
    "# Select \"big model inference\" parameters\n",
    "torch_dtype = \"float16\" #@param [\"float16\", \"bfloat16\", \"float\"]\n",
    "load_in_8bit = False #@param {type:\"boolean\"}\n",
    "device_map = \"auto\"\n",
    "\n",
    "cprint(f\"Loading with: `{torch_dtype=}, {load_in_8bit=}, {device_map=}`\")\n",
    "\n",
    "tokenizer = AutoTokenizer.from_pretrained(model_name)\n"
   ]
  },
  {
   "cell_type": "code",
   "execution_count": null,
   "id": "d30e090f-40f3-470d-b4e9-650fabe2d31f",
   "metadata": {},
   "outputs": [],
   "source": [
    "# This will take some time to load\n",
    "model = AutoModelForCausalLM.from_pretrained(\n",
    "    model_name,\n",
    "    torch_dtype=getattr(torch, torch_dtype),\n",
    "    load_in_8bit=load_in_8bit,\n",
    "    device_map=device_map,\n",
    "    offload_folder=\"./offload\",\n",
    ")\n",
    "\n",
    "\n"
   ]
  },
  {
   "cell_type": "code",
   "execution_count": null,
   "id": "17373c04-a90c-45c3-a52b-7c8e5554f781",
   "metadata": {},
   "outputs": [],
   "source": [
    "# Sampling args\n",
    "max_new_tokens = 128 #@param {type:\"slider\", min:32.0, max:3072.0, step:32}\n",
    "temperature = 0.7 #@param {type:\"slider\", min:0.0, max:1.25, step:0.05}\n",
    "top_k = 0 #@param {type:\"slider\", min:0.0, max:1.0, step:0.05}\n",
    "top_p = 0.9 #@param {type:\"slider\", min:0.0, max:1.0, step:0.05}\n",
    "do_sample = True #@param {type:\"boolean\"}"
   ]
  },
  {
   "cell_type": "code",
   "execution_count": 16,
   "id": "8df6ac07-06d6-47b9-be01-e49c5c5130d5",
   "metadata": {},
   "outputs": [
    {
     "name": "stdin",
     "output_type": "stream",
     "text": [
      "Prompt: \n",
      " What do you think about stocks and stock options ?\n"
     ]
    },
    {
     "name": "stdout",
     "output_type": "stream",
     "text": [
      "\u001b[34mSampling with: `max_new_tokens=128, temperature=0.7, top_k=0, top_p=0.9, do_sample=True`. Please wait.\u001b[0m\n"
     ]
    },
    {
     "data": {
      "text/markdown": [
       "---"
      ],
      "text/plain": [
       "<IPython.core.display.Markdown object>"
      ]
     },
     "metadata": {},
     "output_type": "display_data"
    },
    {
     "name": "stdout",
     "output_type": "stream",
     "text": [
      "\u001b[32mAs an AI language model, I do not have personal opinions or beliefs. However, I can provide information and answer questions related to the stock market.\n",
      "\n",
      "Stocks and stock options are financial instruments that allow investors to buy or sell ownership in a company. Stock options are a type of option where the option holder has the right, but not the obligation, to buy or sell the underlying asset at a specified price (strike price) within a specified time frame.\n",
      "\n",
      "Investors typically purchase stock options as a way to diversify their investment portfolio and potentially benefit from a company's success. However, the terms and conditions of stock\u001b[0m\n"
     ]
    }
   ],
   "source": [
    "# Process the user prompt. This will take quite some time\n",
    "\n",
    "user_prompt = input(\"Prompt: \\n\")  \n",
    "\n",
    "if \"tuned\" in model_name:\n",
    "    # Add system prompt for chat tuned models\n",
    "    system_prompt = \"\"\"<|SYSTEM|># StableLM Tuned (Alpha version)\n",
    "    - StableLM is a helpful and harmless open-source AI language model developed by StabilityAI.\n",
    "    - StableLM is excited to be able to help the user, but will refuse to do anything that could be considered harmful to the user.\n",
    "    - StableLM is more than just an information source, StableLM is also able to write poetry, short stories, and make jokes.\n",
    "    - StableLM will refuse to participate in anything that could harm a human.\n",
    "    \"\"\"\n",
    "    prompt = f\"{system_prompt}<|USER|>{user_prompt}<|ASSISTANT|>\"\n",
    "else:\n",
    "    prompt = user_prompt\n",
    "\n",
    "# Create `generate` inputs\n",
    "inputs = tokenizer(prompt, return_tensors=\"pt\")\n",
    "inputs.to(model.device)\n",
    "\n",
    "cprint(f\"Sampling with: `{max_new_tokens=}, {temperature=}, {top_k=}, {top_p=}, {do_sample=}`. Please wait.\")\n",
    "hr()\n",
    "\n",
    "# Generate\n",
    "tokens = model.generate(\n",
    "    **inputs,\n",
    "    max_new_tokens=max_new_tokens,\n",
    "    temperature=temperature,\n",
    "    top_k=top_k,\n",
    "    top_p=top_p,\n",
    "    do_sample=do_sample,\n",
    "    pad_token_id=tokenizer.eos_token_id,\n",
    "    stopping_criteria=StoppingCriteriaList([StopOnTokens()])\n",
    ")\n",
    "\n",
    "# Extract out only the completion tokens\n",
    "completion_tokens = tokens[0][inputs['input_ids'].size(1):]\n",
    "completion = tokenizer.decode(completion_tokens, skip_special_tokens=True)\n",
    "\n",
    "# Display\n",
    "cprint(completion, color=\"green\")\n"
   ]
  }
 ],
 "metadata": {
  "kernelspec": {
   "display_name": "Stable Diffusion LM with Python 3.10",
   "language": "python",
   "name": "sdlm_3.10"
  },
  "language_info": {
   "codemirror_mode": {
    "name": "ipython",
    "version": 3
   },
   "file_extension": ".py",
   "mimetype": "text/x-python",
   "name": "python",
   "nbconvert_exporter": "python",
   "pygments_lexer": "ipython3",
   "version": "3.10.12"
  }
 },
 "nbformat": 4,
 "nbformat_minor": 5
}
