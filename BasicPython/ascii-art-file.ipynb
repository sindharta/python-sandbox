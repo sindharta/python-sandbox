{
 "cells": [
  {
   "cell_type": "code",
   "execution_count": 2,
   "id": "initial_id",
   "metadata": {
    "ExecuteTime": {
     "end_time": "2023-09-11T03:05:06.400936900Z",
     "start_time": "2023-09-11T03:05:06.395935700Z"
    }
   },
   "outputs": [],
   "source": [
    "import os\n",
    "\n",
    "def encodeString(stringVal):\n",
    "    encodedList = []\n",
    "    prevChar = None\n",
    "    count = 0\n",
    "    for char in stringVal:\n",
    "        if prevChar != char and prevChar is not None:\n",
    "            encodedList.append((prevChar, count))\n",
    "            count = 0\n",
    "        prevChar = char\n",
    "        count = count + 1\n",
    "    encodedList.append((prevChar, count))\n",
    "    return encodedList\n",
    "\n",
    "def decodeString(encodedList):\n",
    "    decodedStr = ''\n",
    "    for item in encodedList:\n",
    "        decodedStr = decodedStr + item[0] * item[1]\n",
    "    return decodedStr"
   ]
  },
  {
   "cell_type": "code",
   "execution_count": 54,
   "id": "9961aeeafa7074cb",
   "metadata": {},
   "outputs": [],
   "source": [
    "def encodeFile(filename, newFilename):\n",
    "\n",
    "    with open(newFilename,'w', newline='', encoding='utf-8') as destFile:\n",
    "    \n",
    "        with open(filename,'r', newline='', encoding='utf-8') as srcFile:\n",
    "\n",
    "            line = srcFile.readline()        \n",
    "            while line:\n",
    "                encodedString = encodeString(line.rstrip('\\n'))\n",
    "                numElements = len(encodedString)\n",
    "                \n",
    "                for i in range(0, numElements):\n",
    "                    c = encodedString[i][0]\n",
    "                    count = encodedString[i][1]\n",
    "                    if count== 0:\n",
    "                        continue\n",
    "                    destFile.write(f'{c},{count}')\n",
    "                    if i < numElements -1:\n",
    "                        destFile.write(',')\n",
    "                destFile.write('\\n')\n",
    "                line = srcFile.readline()        \n",
    "\n",
    "\n",
    "#------------------------------------------------------------------------------------------------------------------------\n",
    "def decodeFile(filename):\n",
    "    ret = []\n",
    "    \n",
    "    with open(filename,'r', newline='', encoding='utf-8') as f:\n",
    "        line = f.readline()        \n",
    "        while line:\n",
    "            strs = line.split(',')\n",
    "            numElements = int(len(strs)/2)\n",
    "            \n",
    "            decodedLine = ''\n",
    "            for i in range(0,numElements):\n",
    "                c = strs[i*2]\n",
    "                countStr = strs[i*2+1].rstrip()\n",
    "                try:\n",
    "                    count = int(countStr)\n",
    "                except Exception as e:\n",
    "                    print (f\"Invalid count: {countStr}\")\n",
    "                    continue\n",
    "                    \n",
    "                decodedLine += c * count\n",
    "                \n",
    "            ret.append(decodedLine)\n",
    "            line = f.readline()        \n",
    "            \n",
    "    return ret\n",
    "                    \n"
   ]
  },
  {
   "cell_type": "code",
   "execution_count": 57,
   "id": "85d0b820e09f3a0e",
   "metadata": {
    "ExecuteTime": {
     "end_time": "2023-09-11T03:05:08.490994Z",
     "start_time": "2023-09-11T03:05:08.449992500Z"
    }
   },
   "outputs": [
    {
     "name": "stdout",
     "output_type": "stream",
     "text": [
      "Original file size: 2757\n",
      "New file size: 870\n",
      "\n",
      "                                                                                \n",
      "                                                                                \n",
      "                               %%%%%%%%%%%%%%%%%%%                              \n",
      "                        %%%%%%%%%%%%%%%%%%%%%%%%%%%%%%%%%                       \n",
      "                    %%%%%%%%                         %%%%%%%%                   \n",
      "                %%%%%%%                                   %%%%%%                \n",
      "              %%%%%%                                         %%%%%%             \n",
      "           %%%%%%                                               %%%%%           \n",
      "          %%%%%                                                   %%%%%         \n",
      "        %%%%%                                                       %%%%%       \n",
      "       %%%%                 %%%%%              %%%%%                  %%%%      \n",
      "      %%%%                 %%%%%%%            %%%%%%%                  %%%%     \n",
      "     %%%%                  %%%%%%%            %%%%%%%                   %%%%    \n",
      "    %%%%                   %%%%%%%            %%%%%%%                    %%%%   \n",
      "    %%%%                    %%%%%              %%%%%                     %%%%   \n",
      "   %%%%                                                                   %%%%  \n",
      "   %%%%                                                                   %%%%  \n",
      "   %%%%                                                                   %%%%  \n",
      "   %%%%                                                      %%%%        %%%%   \n",
      "    %%%%       %%%%%%                                        %%%%%       %%%%   \n",
      "    %%%%         %%%%                                       %%%%        %%%%    \n",
      "     %%%%         %%%%                                     %%%%         %%%%    \n",
      "      %%%%         %%%%%                                  %%%%         %%%%     \n",
      "       %%%%%         %%%%%                             %%%%%         %%%%%      \n",
      "        %%%%%          %%%%%%                        %%%%%          %%%%        \n",
      "          %%%%%           %%%%%%%               %%%%%%%           %%%%%         \n",
      "            %%%%%             %%%%%%%%%%%%%%%%%%%%%             %%%%%           \n",
      "              %%%%%%%                                        %%%%%              \n",
      "                 %%%%%%%                                 %%%%%%%                \n",
      "                     %%%%%%%%%                     %%%%%%%%%                    \n",
      "                          %%%%%%%%%%%%%%%%%%%%%%%%%%%%%                         \n",
      "                                   %%%%%%%%%%%%                                 \n",
      "                                                                                \n",
      "                                                                                 \n",
      "\n"
     ]
    }
   ],
   "source": [
    "src_file = \"ascii_art_data_source.txt\"\n",
    "dest_file = \"ascii-art_data_output.txt\"\n",
    "print(f'Original file size: {os.path.getsize(src_file)}')\n",
    "\n",
    "encodeFile(src_file, dest_file)\n",
    "print(f'New file size: {os.path.getsize(dest_file)}')\n",
    "\n",
    "for line in decodeFile(dest_file):\n",
    "    print(line)\n",
    "\n"
   ]
  },
  {
   "cell_type": "code",
   "execution_count": null,
   "id": "3593b5d7",
   "metadata": {},
   "outputs": [],
   "source": []
  },
  {
   "cell_type": "code",
   "execution_count": 88,
   "id": "0183ed9a",
   "metadata": {},
   "outputs": [],
   "source": [
    "def encodeFileBinary(filename, newFilename):\n",
    "    \n",
    "    newLineCode = b'\\x0A\\x00'    # 2 bytes\n",
    "\n",
    "    with open(newFilename,'wb') as destFile:\n",
    "    \n",
    "        with open(filename,'r', newline='', encoding='utf-8') as srcFile:\n",
    "\n",
    "            line = srcFile.readline()        \n",
    "            while line:\n",
    "                encodedString = encodeString(line.rstrip('\\n'))\n",
    "                numElements = len(encodedString)\n",
    "                \n",
    "                for i in range(0, numElements):\n",
    "                    c = encodedString[i][0]\n",
    "                    count = encodedString[i][1]\n",
    "                    if count== 0:\n",
    "                        continue\n",
    "                    if count>=255:\n",
    "                        print (f\"Can't represent count: {count} in the current custom binary format\")\n",
    "                        continue\n",
    "                    destFile.write(c.encode('ascii'))\n",
    "                    destFile.write(count)\n",
    "                        \n",
    "                destFile.write(newLineCode)\n",
    "                line = srcFile.readline()        \n",
    "\n",
    "\n",
    "#------------------------------------------------------------------------------------------------------------------------\n",
    "def decodeFileBinary(filename):\n",
    "    ret = []\n",
    "    decodedLine = ''\n",
    "    \n",
    "    with open(filename,'rb') as f:\n",
    "        bytes = f.read(2)\n",
    "        while bytes:\n",
    "            c = chr(bytes[0])\n",
    "            countStr = int(bytes[1])\n",
    "            if c == \"\\n\":\n",
    "                ret.append(decodedLine)\n",
    "                decodedLine = ''\n",
    "            else:\n",
    "                decodedLine += c * count\n",
    "            bytes = f.read(2)\n",
    "            \n",
    "    ret.append(decodedLine)\n",
    "            \n",
    "            \n",
    "    return ret\n",
    "                    \n"
   ]
  },
  {
   "cell_type": "code",
   "execution_count": 89,
   "id": "98f028c8",
   "metadata": {},
   "outputs": [
    {
     "name": "stdout",
     "output_type": "stream",
     "text": [
      "Original file size: 2757\n"
     ]
    },
    {
     "ename": "TypeError",
     "evalue": "a bytes-like object is required, not 'int'",
     "output_type": "error",
     "traceback": [
      "\u001b[1;31m---------------------------------------------------------------------------\u001b[0m",
      "\u001b[1;31mTypeError\u001b[0m                                 Traceback (most recent call last)",
      "Cell \u001b[1;32mIn[89], line 5\u001b[0m\n\u001b[0;32m      2\u001b[0m dest_file \u001b[38;5;241m=\u001b[39m \u001b[38;5;124m\"\u001b[39m\u001b[38;5;124mascii-art_data_output.bin\u001b[39m\u001b[38;5;124m\"\u001b[39m\n\u001b[0;32m      3\u001b[0m \u001b[38;5;28mprint\u001b[39m(\u001b[38;5;124mf\u001b[39m\u001b[38;5;124m'\u001b[39m\u001b[38;5;124mOriginal file size: \u001b[39m\u001b[38;5;132;01m{\u001b[39;00mos\u001b[38;5;241m.\u001b[39mpath\u001b[38;5;241m.\u001b[39mgetsize(src_file)\u001b[38;5;132;01m}\u001b[39;00m\u001b[38;5;124m'\u001b[39m)\n\u001b[1;32m----> 5\u001b[0m \u001b[43mencodeFileBinary\u001b[49m\u001b[43m(\u001b[49m\u001b[43msrc_file\u001b[49m\u001b[43m,\u001b[49m\u001b[43m \u001b[49m\u001b[43mdest_file\u001b[49m\u001b[43m)\u001b[49m\n\u001b[0;32m      6\u001b[0m \u001b[38;5;28mprint\u001b[39m(\u001b[38;5;124mf\u001b[39m\u001b[38;5;124m'\u001b[39m\u001b[38;5;124mNew file size: \u001b[39m\u001b[38;5;132;01m{\u001b[39;00mos\u001b[38;5;241m.\u001b[39mpath\u001b[38;5;241m.\u001b[39mgetsize(dest_file)\u001b[38;5;132;01m}\u001b[39;00m\u001b[38;5;124m'\u001b[39m)\n",
      "Cell \u001b[1;32mIn[88], line 23\u001b[0m, in \u001b[0;36mencodeFileBinary\u001b[1;34m(filename, newFilename)\u001b[0m\n\u001b[0;32m     21\u001b[0m         \u001b[38;5;28;01mcontinue\u001b[39;00m\n\u001b[0;32m     22\u001b[0m     destFile\u001b[38;5;241m.\u001b[39mwrite(c\u001b[38;5;241m.\u001b[39mencode(\u001b[38;5;124m'\u001b[39m\u001b[38;5;124mascii\u001b[39m\u001b[38;5;124m'\u001b[39m))\n\u001b[1;32m---> 23\u001b[0m     \u001b[43mdestFile\u001b[49m\u001b[38;5;241;43m.\u001b[39;49m\u001b[43mwrite\u001b[49m\u001b[43m(\u001b[49m\u001b[43mcount\u001b[49m\u001b[43m)\u001b[49m\n\u001b[0;32m     25\u001b[0m destFile\u001b[38;5;241m.\u001b[39mwrite(newLineCode)\n\u001b[0;32m     26\u001b[0m line \u001b[38;5;241m=\u001b[39m srcFile\u001b[38;5;241m.\u001b[39mreadline()\n",
      "\u001b[1;31mTypeError\u001b[0m: a bytes-like object is required, not 'int'"
     ]
    }
   ],
   "source": [
    "src_file = \"ascii_art_data_source.txt\"\n",
    "dest_file = \"ascii-art_data_output.bin\"\n",
    "print(f'Original file size: {os.path.getsize(src_file)}')\n",
    "\n",
    "encodeFileBinary(src_file, dest_file)\n",
    "print(f'New file size: {os.path.getsize(dest_file)}')\n",
    "\n",
    "#for line in decodeFileBinary(dest_file):\n",
    "#    print(line)"
   ]
  },
  {
   "cell_type": "code",
   "execution_count": 82,
   "id": "1706fba2",
   "metadata": {},
   "outputs": [
    {
     "name": "stdout",
     "output_type": "stream",
     "text": [
      "10\n",
      "2\n"
     ]
    }
   ],
   "source": [
    "print(int(ord('\\n')))\n",
    "\n",
    "newLineCode = b'\\x0A\\x00'\n",
    "print(len(newLineCode))"
   ]
  }
 ],
 "metadata": {
  "kernelspec": {
   "display_name": "Python 3",
   "language": "python",
   "name": "python3"
  },
  "language_info": {
   "codemirror_mode": {
    "name": "ipython",
    "version": 3
   },
   "file_extension": ".py",
   "mimetype": "text/x-python",
   "name": "python",
   "nbconvert_exporter": "python",
   "pygments_lexer": "ipython3",
   "version": "3.10.9"
  }
 },
 "nbformat": 4,
 "nbformat_minor": 5
}
