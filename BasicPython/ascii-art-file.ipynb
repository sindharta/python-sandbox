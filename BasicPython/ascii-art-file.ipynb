{
 "cells": [
  {
   "cell_type": "code",
   "execution_count": 2,
   "id": "initial_id",
   "metadata": {
    "ExecuteTime": {
     "end_time": "2023-09-11T03:05:06.400936900Z",
     "start_time": "2023-09-11T03:05:06.395935700Z"
    }
   },
   "outputs": [],
   "source": [
    "import os\n",
    "\n",
    "def encodeString(stringVal):\n",
    "    encodedList = []\n",
    "    prevChar = None\n",
    "    count = 0\n",
    "    for char in stringVal:\n",
    "        if prevChar != char and prevChar is not None:\n",
    "            encodedList.append((prevChar, count))\n",
    "            count = 0\n",
    "        prevChar = char\n",
    "        count = count + 1\n",
    "    encodedList.append((prevChar, count))\n",
    "    return encodedList\n",
    "\n",
    "def decodeString(encodedList):\n",
    "    decodedStr = ''\n",
    "    for item in encodedList:\n",
    "        decodedStr = decodedStr + item[0] * item[1]\n",
    "    return decodedStr"
   ]
  },
  {
   "cell_type": "code",
   "execution_count": 40,
   "id": "9961aeeafa7074cb",
   "metadata": {},
   "outputs": [],
   "source": [
    "def encodeFile(filename, newFilename):\n",
    "\n",
    "    with open(newFilename,'w', newline='', encoding='utf-8') as destFile:\n",
    "    \n",
    "        with open(filename,'r', newline='', encoding='utf-8') as srcFile:\n",
    "\n",
    "            line = srcFile.readline()        \n",
    "            while line:\n",
    "                encodedString = encodeString(line.rstrip('\\n'))\n",
    "                numElements = len(encodedString)\n",
    "                \n",
    "                for i in range(0, numElements):\n",
    "                    c = encodedString[i][0]\n",
    "                    count = encodedString[i][1]\n",
    "                    if count== 0:\n",
    "                        continue\n",
    "                    destFile.write(f'{c},{count}')\n",
    "                    if i < numElements -1:\n",
    "                        destFile.write(',')\n",
    "                destFile.write('\\n')\n",
    "                line = srcFile.readline()        \n",
    "\n",
    "\n",
    "def decodeFile(filename):\n",
    "    # Your code here!\n",
    "    pass"
   ]
  },
  {
   "cell_type": "code",
   "execution_count": 41,
   "id": "85d0b820e09f3a0e",
   "metadata": {
    "ExecuteTime": {
     "end_time": "2023-09-11T03:05:08.490994Z",
     "start_time": "2023-09-11T03:05:08.449992500Z"
    }
   },
   "outputs": [
    {
     "name": "stdout",
     "output_type": "stream",
     "text": [
      "Original file size: 2757\n"
     ]
    }
   ],
   "source": [
    "src_file = \"ascii_art_data_source.txt\"\n",
    "dest_file = \"ascii-art_data_output.txt\"\n",
    "print(f'Original file size: {os.path.getsize(src_file)}')\n",
    "\n",
    "encodeFile(src_file, dest_file)\n",
    "#print(f'New file size: {os.path.getsize(dest_file)}')\n",
    "\n"
   ]
  }
 ],
 "metadata": {
  "kernelspec": {
   "display_name": "Python 3",
   "language": "python",
   "name": "python3"
  },
  "language_info": {
   "codemirror_mode": {
    "name": "ipython",
    "version": 3
   },
   "file_extension": ".py",
   "mimetype": "text/x-python",
   "name": "python",
   "nbconvert_exporter": "python",
   "pygments_lexer": "ipython3",
   "version": "3.10.9"
  }
 },
 "nbformat": 4,
 "nbformat_minor": 5
}
