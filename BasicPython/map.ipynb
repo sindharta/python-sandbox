{
 "cells": [
  {
   "cell_type": "code",
   "execution_count": 6,
   "id": "561c3b9c-34b7-4cb4-af59-245fae2c13ad",
   "metadata": {},
   "outputs": [
    {
     "name": "stdout",
     "output_type": "stream",
     "text": [
      "[2, 4, 6, 8, 10]\n"
     ]
    }
   ],
   "source": [
    "#map with lambda\n",
    "nums = [1, 2, 3, 4, 5]\n",
    "\n",
    "mylist = list(map(lambda n: n * 2, nums))\n",
    "\n",
    "print(mylist)"
   ]
  },
  {
   "cell_type": "code",
   "execution_count": 7,
   "id": "305c4622-c1a9-4e55-9bfe-9f92d75e60c1",
   "metadata": {},
   "outputs": [
    {
     "data": {
      "text/plain": [
       "[2, 4, 6, 8, 10, 12]"
      ]
     },
     "execution_count": 7,
     "metadata": {},
     "output_type": "execute_result"
    }
   ],
   "source": [
    "#map with def\n",
    "def double(n):\n",
    "    return n * 2\n",
    "\n",
    "nums = [1, 2, 3, 4, 5, 6]\n",
    "list(map(double, nums))"
   ]
  },
  {
   "cell_type": "code",
   "execution_count": 8,
   "id": "c80a8b7b-5959-4c73-8c05-a26ffe7ade52",
   "metadata": {},
   "outputs": [
    {
     "data": {
      "text/plain": [
       "[1, 3, 5]"
      ]
     },
     "execution_count": 8,
     "metadata": {},
     "output_type": "execute_result"
    }
   ],
   "source": [
    "#filter\n",
    "nums = [1, 2, 3, 4, 5]\n",
    "\n",
    "list(filter(lambda n: n % 2 == 1, nums))"
   ]
  },
  {
   "cell_type": "code",
   "execution_count": null,
   "id": "c7b1619d-cbb4-4b98-8b5e-82a6cf7da920",
   "metadata": {},
   "outputs": [],
   "source": []
  },
  {
   "cell_type": "code",
   "execution_count": 4,
   "id": "d55fa9cb-89a3-4d1d-b5e8-4747c77f9447",
   "metadata": {},
   "outputs": [
    {
     "name": "stdout",
     "output_type": "stream",
     "text": [
      "[2, 4, 6, 8, 10]\n"
     ]
    }
   ],
   "source": []
  }
 ],
 "metadata": {
  "kernelspec": {
   "display_name": "Python 3 (ipykernel)",
   "language": "python",
   "name": "python3"
  },
  "language_info": {
   "codemirror_mode": {
    "name": "ipython",
    "version": 3
   },
   "file_extension": ".py",
   "mimetype": "text/x-python",
   "name": "python",
   "nbconvert_exporter": "python",
   "pygments_lexer": "ipython3",
   "version": "3.10.12"
  }
 },
 "nbformat": 4,
 "nbformat_minor": 5
}
