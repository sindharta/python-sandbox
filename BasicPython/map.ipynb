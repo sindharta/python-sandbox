{
 "cells": [
  {
   "cell_type": "code",
   "execution_count": 6,
   "id": "561c3b9c-34b7-4cb4-af59-245fae2c13ad",
   "metadata": {},
   "outputs": [
    {
     "name": "stdout",
     "output_type": "stream",
     "text": [
      "[2, 4, 6, 8, 10]\n"
     ]
    }
   ],
   "source": [
    "# map with lambda\n",
    "nums = [1, 2, 3, 4, 5]\n",
    "\n",
    "mylist = list(map(lambda n: n * 2, nums))\n",
    "\n",
    "print(mylist)"
   ]
  },
  {
   "cell_type": "code",
   "execution_count": 7,
   "id": "305c4622-c1a9-4e55-9bfe-9f92d75e60c1",
   "metadata": {},
   "outputs": [
    {
     "data": {
      "text/plain": [
       "[2, 4, 6, 8, 10, 12]"
      ]
     },
     "execution_count": 7,
     "metadata": {},
     "output_type": "execute_result"
    }
   ],
   "source": [
    "# map with def\n",
    "def double(n):\n",
    "    return n * 2\n",
    "\n",
    "nums = [1, 2, 3, 4, 5, 6]\n",
    "list(map(double, nums))"
   ]
  },
  {
   "cell_type": "code",
   "execution_count": 8,
   "id": "c80a8b7b-5959-4c73-8c05-a26ffe7ade52",
   "metadata": {},
   "outputs": [
    {
     "data": {
      "text/plain": [
       "[1, 3, 5]"
      ]
     },
     "execution_count": 8,
     "metadata": {},
     "output_type": "execute_result"
    }
   ],
   "source": [
    "# filter\n",
    "nums = [1, 2, 3, 4, 5]\n",
    "\n",
    "list(filter(lambda n: n % 2 == 1, nums))"
   ]
  },
  {
   "cell_type": "code",
   "execution_count": 11,
   "id": "c7b1619d-cbb4-4b98-8b5e-82a6cf7da920",
   "metadata": {},
   "outputs": [
    {
     "name": "stdout",
     "output_type": "stream",
     "text": [
      "[10, 40, 90, 160]\n"
     ]
    }
   ],
   "source": [
    "# multiple iterables\n",
    "list_0 = [1, 2, 3, 4] # to fill x\n",
    "list_1 = [10, 20, 30, 40] # to fill y\n",
    "print(list(map(lambda x, y: x * y, list_0, list_1)))\n"
   ]
  },
  {
   "cell_type": "code",
   "execution_count": 15,
   "id": "d55fa9cb-89a3-4d1d-b5e8-4747c77f9447",
   "metadata": {},
   "outputs": [
    {
     "name": "stdout",
     "output_type": "stream",
     "text": [
      "[2, 1, 0]\n",
      "[4, 1, 0]\n",
      "[10, 40, 90, 160]\n"
     ]
    }
   ],
   "source": [
    "# list comprehensions and generator expressions\n",
    "\n",
    "l = [-2, -1, 0]\n",
    "absolute_values = [abs(x) for x in l]\n",
    "print(absolute_values)\n",
    "\n",
    "squared_values = [x**2 for x in l]\n",
    "print(squared_values)\n",
    "\n",
    "list_0 = [1, 2, 3, 4] # to fill x\n",
    "list_1 = [10, 20, 30, 40] # to fill y\n",
    "multiply_results = [x * y for x, y in zip(list_0, list_1)]\n",
    "print(multiply_results)\n"
   ]
  },
  {
   "cell_type": "code",
   "execution_count": 16,
   "id": "2decf7f6-6dd2-4308-9616-3efbec0a5284",
   "metadata": {},
   "outputs": [
    {
     "name": "stdout",
     "output_type": "stream",
     "text": [
      "[2 1 0]\n",
      "[4 1 0]\n",
      "[10 40 90]\n"
     ]
    }
   ],
   "source": [
    "# NumPy\n",
    "import numpy as np\n",
    "\n",
    "a = np.array([-2, -1, 0])\n",
    "print(np.abs(a))\n",
    "# [2 1 0]\n",
    "\n",
    "print(a**2)\n",
    "# [4 1 0]\n",
    "\n",
    "a_1 = np.array([1, 2, 3])\n",
    "a_2 = np.array([10, 20, 30])\n",
    "print(a_1 * a_2)\n",
    "# [10 40 90]"
   ]
  }
 ],
 "metadata": {
  "kernelspec": {
   "display_name": "Python 3 (ipykernel)",
   "language": "python",
   "name": "python3"
  },
  "language_info": {
   "codemirror_mode": {
    "name": "ipython",
    "version": 3
   },
   "file_extension": ".py",
   "mimetype": "text/x-python",
   "name": "python",
   "nbconvert_exporter": "python",
   "pygments_lexer": "ipython3",
   "version": "3.10.12"
  }
 },
 "nbformat": 4,
 "nbformat_minor": 5
}
