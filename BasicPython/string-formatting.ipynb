{
 "cells": [
  {
   "cell_type": "code",
   "execution_count": 54,
   "id": "ba61ad9d-caab-48d5-970f-e044635e76a9",
   "metadata": {},
   "outputs": [],
   "source": [
    "str = \"My Python Sandbox\"\n",
    "next_str = \" where I learn how to use Python\"\n",
    "width = 30\n",
    "\n",
    "# Reference: https://www.w3schools.com/python/ref_string_format.asp\n"
   ]
  },
  {
   "cell_type": "code",
   "execution_count": 71,
   "id": "7faa8bfc-75f7-45a1-aee3-7c46aec5826e",
   "metadata": {},
   "outputs": [
    {
     "name": "stdout",
     "output_type": "stream",
     "text": [
      "My Python Sandbox             \n",
      "xxxxxxMy Python Sandboxxxxxxxx\n",
      "My Python Sandboxxxxxxxxxxxxxx\n",
      "             My Python Sandbox\n",
      "xxxxxxxxxxxxxMy Python Sandbox\n",
      "My Python Sandbox             ,,,  where I learn how to use Python\n"
     ]
    }
   ],
   "source": [
    "# Using format method\n",
    "print(\"{:{w}s}\".format(str, w = width)) \n",
    "\n",
    "print('{s:{c}^{n}}'.format(s=str,n=width,c='x')) # ^ for center alignment\n",
    "\n",
    "print('{s:{c}<{n}}'.format(s=str,n=width,c='x')) # < for left alignment\n",
    "\n",
    "print(\"{:>{w}s}\".format(str, w = width)) # < for right alignment\n",
    "print('{s:{c}>{n}}'.format(s=str,n=width,c='x')) \n",
    "\n",
    "\n",
    "print(\"{s1:{w1}s},,, {s2}\".format(s1 = str, w1 = width, s2 = next_str)) \n"
   ]
  },
  {
   "cell_type": "code",
   "execution_count": 72,
   "id": "ac6526e3-f272-478c-8dd8-5204b29a4062",
   "metadata": {},
   "outputs": [
    {
     "name": "stdout",
     "output_type": "stream",
     "text": [
      "My Python Sandbox   \n",
      "   My Python Sandbox\n",
      "My Python Sandbox             \n",
      "             My Python Sandbox\n",
      "             My Python Sandbox this-will-be-in-the-middle  where I learn how to use Python\n"
     ]
    }
   ],
   "source": [
    "# Using % operator\n",
    "print(\"%-20s\" % (str))\n",
    "print(\"%20s\"%(str))\n",
    "\n",
    "print(\"%0*s\" % (-width, str))\n",
    "print(\"%0*s\"% (width, str))\n",
    "\n",
    "print(\"%0*s this-will-be-in-the-middle %s\" % (width, str, next_str) )\n",
    "\n"
   ]
  },
  {
   "cell_type": "code",
   "execution_count": 89,
   "id": "2382964a-2097-4c9d-b00f-51ebacba78c9",
   "metadata": {},
   "outputs": [
    {
     "name": "stdout",
     "output_type": "stream",
     "text": [
      "My Python Sandboxxxxxxxxxxxxxx\n",
      "xxxxxxxxxxxxxMy Python Sandbox\n",
      "My Python Sandboxxxxxxxxxxxxxx\n",
      "xxxxxxxxxxxxxMy Python Sandbox ,,,  where I learn how to use Python\n"
     ]
    }
   ],
   "source": [
    "# Using f-strings\n",
    "fill = \"x\"\n",
    "\n",
    "print(f\"{str:{fill}<{width}s}\")\n",
    "print(f\"{str:{fill}>{width}s}\")\n",
    "\n",
    "print(f\"{str:{fill}<{width}s}\")\n",
    "print(f\"{str:{fill}>{width}s} ,,, {next_str}\")\n"
   ]
  }
 ],
 "metadata": {
  "kernelspec": {
   "display_name": "Python 3 (ipykernel)",
   "language": "python",
   "name": "python3"
  },
  "language_info": {
   "codemirror_mode": {
    "name": "ipython",
    "version": 3
   },
   "file_extension": ".py",
   "mimetype": "text/x-python",
   "name": "python",
   "nbconvert_exporter": "python",
   "pygments_lexer": "ipython3",
   "version": "3.10.12"
  }
 },
 "nbformat": 4,
 "nbformat_minor": 5
}
