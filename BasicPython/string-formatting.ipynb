{
 "cells": [
  {
   "cell_type": "code",
   "execution_count": 1,
   "id": "ba61ad9d-caab-48d5-970f-e044635e76a9",
   "metadata": {},
   "outputs": [],
   "source": [
    "str = \"My Python Sandbox\""
   ]
  },
  {
   "cell_type": "code",
   "execution_count": 9,
   "id": "ac6526e3-f272-478c-8dd8-5204b29a4062",
   "metadata": {},
   "outputs": [
    {
     "name": "stdout",
     "output_type": "stream",
     "text": [
      "My Python Sandbox             \n",
      "My Python Sandbox             \n",
      "My Python Sandbox             \n"
     ]
    }
   ],
   "source": [
    "\n",
    "# Using % operator\n",
    "print(\"%-30s\"%(str))\n",
    "\n",
    "# Using format method\n",
    "print(\"{:30s}\".format(str))\n",
    "\n",
    "# Using f-strings\n",
    "print(f\"{str:30s}\")"
   ]
  },
  {
   "cell_type": "code",
   "execution_count": 8,
   "id": "2382964a-2097-4c9d-b00f-51ebacba78c9",
   "metadata": {},
   "outputs": [
    {
     "name": "stdout",
     "output_type": "stream",
     "text": [
      "             My Python Sandbox\n",
      "             My Python Sandbox\n",
      "             My Python Sandbox\n"
     ]
    }
   ],
   "source": [
    "# Using % operator\n",
    "print(\"%30s\"%(str))\n",
    "\n",
    "# Using format method\n",
    "print(\"{:>30s}\".format(str))\n",
    "\n",
    "# Using f-strings\n",
    "print(f\"{str:>30s}\")"
   ]
  }
 ],
 "metadata": {
  "kernelspec": {
   "display_name": "Python 3 (ipykernel)",
   "language": "python",
   "name": "python3"
  },
  "language_info": {
   "codemirror_mode": {
    "name": "ipython",
    "version": 3
   },
   "file_extension": ".py",
   "mimetype": "text/x-python",
   "name": "python",
   "nbconvert_exporter": "python",
   "pygments_lexer": "ipython3",
   "version": "3.10.12"
  }
 },
 "nbformat": 4,
 "nbformat_minor": 5
}
