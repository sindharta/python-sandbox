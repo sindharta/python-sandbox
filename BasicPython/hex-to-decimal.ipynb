{
 "cells": [
  {
   "cell_type": "code",
   "execution_count": 41,
   "id": "initial_id",
   "metadata": {
    "collapsed": true,
    "ExecuteTime": {
     "end_time": "2023-08-31T13:53:44.647392800Z",
     "start_time": "2023-08-31T13:53:44.633372800Z"
    }
   },
   "outputs": [],
   "source": [
    " hexNumbers = {\n",
    "    '0': 0, '1': 1, '2': 2, '3': 3, '4': 4, '5': 5, '6': 6, '7': 7, '8': 8, '9': 9,\n",
    "    'A': 10, 'B': 11, 'C': 12, 'D': 13, 'E': 14, 'F': 15\n",
    "}\n",
    "\n",
    "# Converts a string hexadecimal number into an integer decimal\n",
    "# If hexNum is not a valid hexadecimal number, returns None\n",
    "def hexToDec(hexNum):\n",
    "    \n",
    "    if not isinstance(hexNum, str):\n",
    "        return None\n",
    "    \n",
    "    ret = 0;\n",
    "    i = len(hexNum)-1\n",
    "    multiplier = 1\n",
    "    while i >=0:\n",
    "        c = hexNum[i]\n",
    "        if not c in hexNumbers:\n",
    "            return None\n",
    "        \n",
    "        ret += hexNumbers[c] * multiplier\n",
    "        multiplier *= 16\n",
    "        i-=1\n",
    "    \n",
    "    return ret"
   ]
  },
  {
   "cell_type": "code",
   "execution_count": 42,
   "outputs": [
    {
     "data": {
      "text/plain": "10"
     },
     "execution_count": 42,
     "metadata": {},
     "output_type": "execute_result"
    }
   ],
   "source": [
    "hexToDec('A')"
   ],
   "metadata": {
    "collapsed": false,
    "ExecuteTime": {
     "end_time": "2023-08-31T13:53:44.697093800Z",
     "start_time": "2023-08-31T13:53:44.638373200Z"
    }
   },
   "id": "2afae14a7577b69b"
  },
  {
   "cell_type": "code",
   "execution_count": 43,
   "outputs": [
    {
     "data": {
      "text/plain": "0"
     },
     "execution_count": 43,
     "metadata": {},
     "output_type": "execute_result"
    }
   ],
   "source": [
    "hexToDec('0')"
   ],
   "metadata": {
    "collapsed": false,
    "ExecuteTime": {
     "end_time": "2023-08-31T13:53:44.709064800Z",
     "start_time": "2023-08-31T13:53:44.653369600Z"
    }
   },
   "id": "740b0193a2141972"
  },
  {
   "cell_type": "code",
   "execution_count": 44,
   "outputs": [
    {
     "data": {
      "text/plain": "27"
     },
     "execution_count": 44,
     "metadata": {},
     "output_type": "execute_result"
    }
   ],
   "source": [
    "hexToDec('1B')"
   ],
   "metadata": {
    "collapsed": false,
    "ExecuteTime": {
     "end_time": "2023-08-31T13:53:44.710090900Z",
     "start_time": "2023-08-31T13:53:44.669324200Z"
    }
   },
   "id": "c97296acc3530fff"
  },
  {
   "cell_type": "code",
   "execution_count": 45,
   "outputs": [
    {
     "data": {
      "text/plain": "960"
     },
     "execution_count": 45,
     "metadata": {},
     "output_type": "execute_result"
    }
   ],
   "source": [
    "hexToDec('3C0')"
   ],
   "metadata": {
    "collapsed": false,
    "ExecuteTime": {
     "end_time": "2023-08-31T13:53:44.710090900Z",
     "start_time": "2023-08-31T13:53:44.686093200Z"
    }
   },
   "id": "b4409e48187c7d99"
  },
  {
   "cell_type": "code",
   "execution_count": 46,
   "outputs": [
    {
     "name": "stdout",
     "output_type": "stream",
     "text": [
      "None\n"
     ]
    }
   ],
   "source": [
    "# print (hexNumbers['G'])\n",
    "print(hexToDec('A6G'))\n"
   ],
   "metadata": {
    "collapsed": false,
    "ExecuteTime": {
     "end_time": "2023-08-31T13:53:44.720096100Z",
     "start_time": "2023-08-31T13:53:44.701065500Z"
    }
   },
   "id": "c52d6c40262430d1"
  },
  {
   "cell_type": "code",
   "execution_count": 47,
   "outputs": [
    {
     "name": "stdout",
     "output_type": "stream",
     "text": [
      "None\n"
     ]
    }
   ],
   "source": [
    "print(hexToDec('ZZTOP'))"
   ],
   "metadata": {
    "collapsed": false,
    "ExecuteTime": {
     "end_time": "2023-08-31T13:53:44.791066100Z",
     "start_time": "2023-08-31T13:53:44.716065100Z"
    }
   },
   "id": "c9f4efcd8695a367"
  },
  {
   "cell_type": "code",
   "execution_count": 47,
   "outputs": [],
   "source": [],
   "metadata": {
    "collapsed": false,
    "ExecuteTime": {
     "end_time": "2023-08-31T13:53:44.808097200Z",
     "start_time": "2023-08-31T13:53:44.732066400Z"
    }
   },
   "id": "84a3d249bf0a4316"
  },
  {
   "cell_type": "code",
   "execution_count": 48,
   "outputs": [
    {
     "name": "stdout",
     "output_type": "stream",
     "text": [
      "None\n"
     ]
    }
   ],
   "source": [
    "print(hexToDec(10))"
   ],
   "metadata": {
    "collapsed": false,
    "ExecuteTime": {
     "end_time": "2023-08-31T13:53:44.808097200Z",
     "start_time": "2023-08-31T13:53:44.749069500Z"
    }
   },
   "id": "bfa40c9eaa995a5b"
  }
 ],
 "metadata": {
  "kernelspec": {
   "display_name": "Python 3",
   "language": "python",
   "name": "python3"
  },
  "language_info": {
   "codemirror_mode": {
    "name": "ipython",
    "version": 2
   },
   "file_extension": ".py",
   "mimetype": "text/x-python",
   "name": "python",
   "nbconvert_exporter": "python",
   "pygments_lexer": "ipython2",
   "version": "2.7.6"
  }
 },
 "nbformat": 4,
 "nbformat_minor": 5
}
