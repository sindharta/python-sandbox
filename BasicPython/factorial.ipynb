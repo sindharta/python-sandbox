{
 "cells": [
  {
   "cell_type": "code",
   "execution_count": 33,
   "id": "initial_id",
   "metadata": {
    "collapsed": true,
    "ExecuteTime": {
     "end_time": "2023-08-30T11:11:53.262168300Z",
     "start_time": "2023-08-30T11:11:53.244966900Z"
    }
   },
   "outputs": [],
   "source": [
    "def factorial(num):\n",
    "    if (type(num) != int):\n",
    "        return None\n",
    "        \n",
    "    if (num < 0):\n",
    "        return None\n",
    "    \n",
    "    ret = 1\n",
    "    for v0 in range(num):\n",
    "        ret *= (v0 + 1)        \n",
    "    return ret\n"
   ]
  },
  {
   "cell_type": "code",
   "execution_count": 34,
   "outputs": [
    {
     "data": {
      "text/plain": "120"
     },
     "execution_count": 34,
     "metadata": {},
     "output_type": "execute_result"
    }
   ],
   "source": [
    "factorial(5)"
   ],
   "metadata": {
    "collapsed": false,
    "ExecuteTime": {
     "end_time": "2023-08-30T11:11:53.308132Z",
     "start_time": "2023-08-30T11:11:53.263170600Z"
    }
   },
   "id": "71be588e9a5defae"
  },
  {
   "cell_type": "code",
   "execution_count": 35,
   "outputs": [
    {
     "data": {
      "text/plain": "720"
     },
     "execution_count": 35,
     "metadata": {},
     "output_type": "execute_result"
    }
   ],
   "source": [
    "factorial (6)"
   ],
   "metadata": {
    "collapsed": false,
    "ExecuteTime": {
     "end_time": "2023-08-30T11:11:53.309132600Z",
     "start_time": "2023-08-30T11:11:53.277758900Z"
    }
   },
   "id": "b4937099c05f1fba"
  },
  {
   "cell_type": "code",
   "execution_count": 36,
   "outputs": [
    {
     "data": {
      "text/plain": "1"
     },
     "execution_count": 36,
     "metadata": {},
     "output_type": "execute_result"
    }
   ],
   "source": [
    "factorial(0)"
   ],
   "metadata": {
    "collapsed": false,
    "ExecuteTime": {
     "end_time": "2023-08-30T11:11:53.309132600Z",
     "start_time": "2023-08-30T11:11:53.293129600Z"
    }
   },
   "id": "1acf307775e39160"
  },
  {
   "cell_type": "code",
   "execution_count": 37,
   "outputs": [
    {
     "name": "stdout",
     "output_type": "stream",
     "text": [
      "None\n"
     ]
    }
   ],
   "source": [
    "print(factorial(-2))"
   ],
   "metadata": {
    "collapsed": false,
    "ExecuteTime": {
     "end_time": "2023-08-30T11:11:53.324954600Z",
     "start_time": "2023-08-30T11:11:53.310135400Z"
    }
   },
   "id": "fc89c0ba8acca816"
  },
  {
   "cell_type": "code",
   "execution_count": 38,
   "outputs": [
    {
     "name": "stdout",
     "output_type": "stream",
     "text": [
      "None\n"
     ]
    }
   ],
   "source": [
    "print(factorial(1.2))"
   ],
   "metadata": {
    "collapsed": false,
    "ExecuteTime": {
     "end_time": "2023-08-30T11:11:53.384719700Z",
     "start_time": "2023-08-30T11:11:53.324954600Z"
    }
   },
   "id": "cba3744d2dd1b844"
  },
  {
   "cell_type": "code",
   "execution_count": 39,
   "outputs": [
    {
     "name": "stdout",
     "output_type": "stream",
     "text": [
      "None\n"
     ]
    }
   ],
   "source": [
    "print(factorial('spam spam spam spam spam spam'))"
   ],
   "metadata": {
    "collapsed": false,
    "ExecuteTime": {
     "end_time": "2023-08-30T11:11:53.400787800Z",
     "start_time": "2023-08-30T11:11:53.340114500Z"
    }
   },
   "id": "608afde5d4b47e8b"
  }
 ],
 "metadata": {
  "kernelspec": {
   "display_name": "Python 3",
   "language": "python",
   "name": "python3"
  },
  "language_info": {
   "codemirror_mode": {
    "name": "ipython",
    "version": 2
   },
   "file_extension": ".py",
   "mimetype": "text/x-python",
   "name": "python",
   "nbconvert_exporter": "python",
   "pygments_lexer": "ipython2",
   "version": "2.7.6"
  }
 },
 "nbformat": 4,
 "nbformat_minor": 5
}
