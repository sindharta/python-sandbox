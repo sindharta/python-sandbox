{
 "cells": [
  {
   "cell_type": "code",
   "execution_count": null,
   "id": "initial_id",
   "metadata": {
    "collapsed": true
   },
   "outputs": [],
   "source": []
  },
  {
   "cell_type": "code",
   "execution_count": 8,
   "outputs": [],
   "source": [
    "from datetime import datetime\n",
    "\n",
    "def getCurrentTime():\n",
    "    return datetime.now().strftime(\"%m-%d-%Y %H:%M:%S\")\n",
    "\n",
    "\n",
    "class Messenger:\n",
    "    def __init__(self, listeners=[]):\n",
    "        self.listeners = listeners\n",
    "    \n",
    "    def send(self, message):\n",
    "        for listener in self.listeners:\n",
    "            listener.receive(message)\n",
    "\n",
    "    def receive(self, message):\n",
    "        # Must be implemented by extending classes\n",
    "        pass\n",
    "\n",
    "\n",
    "class SaveMessages(Messenger):\n",
    "\n",
    "    def __init__(self):\n",
    "        super().__init__()\n",
    "        self.receivedMessages = list()\n",
    "\n",
    "\n",
    "    def receive(self, message):\n",
    "        self.receivedMessages.append(f'{message} {getCurrentTime()}')\n",
    "    \n",
    "        \n",
    "    def printMessages(self):\n",
    "        for msg in self.receivedMessages:\n",
    "            print(msg)\n",
    "        self.receivedMessages.clear()\n",
    "            \n",
    "    \n"
   ],
   "metadata": {
    "collapsed": false,
    "ExecuteTime": {
     "end_time": "2023-09-08T10:52:07.745520200Z",
     "start_time": "2023-09-08T10:52:07.730523500Z"
    }
   },
   "id": "a5f75f2c7a0ff238"
  },
  {
   "cell_type": "code",
   "execution_count": null,
   "outputs": [],
   "source": [],
   "metadata": {
    "collapsed": false
   },
   "id": "2b61b7c87c4db689"
  },
  {
   "cell_type": "code",
   "execution_count": 12,
   "outputs": [
    {
     "name": "stdout",
     "output_type": "stream",
     "text": [
      "Hello, there! This is the first message 09-08-2023 19:52:33\n",
      "Oh hi! This is the second message! 09-08-2023 19:52:33\n",
      "Hola! This is the third and final message! 09-08-2023 19:52:33\n"
     ]
    }
   ],
   "source": [
    "# Run this cell after you've written your solution\n",
    "listener = SaveMessages()\n",
    "\n",
    "sender = Messenger([listener])\n",
    "\n",
    "sender.send('Hello, there! This is the first message')\n",
    "sender.send('Oh hi! This is the second message!')\n",
    "sender.send('Hola! This is the third and final message!')\n",
    "\n",
    "listener.printMessages()"
   ],
   "metadata": {
    "collapsed": false,
    "ExecuteTime": {
     "end_time": "2023-09-08T10:52:33.592604700Z",
     "start_time": "2023-09-08T10:52:33.586579900Z"
    }
   },
   "id": "b5489c4f0114d860"
  },
  {
   "cell_type": "code",
   "execution_count": null,
   "outputs": [],
   "source": [],
   "metadata": {
    "collapsed": false
   },
   "id": "733a128e57922a7c"
  }
 ],
 "metadata": {
  "kernelspec": {
   "display_name": "Python 3",
   "language": "python",
   "name": "python3"
  },
  "language_info": {
   "codemirror_mode": {
    "name": "ipython",
    "version": 2
   },
   "file_extension": ".py",
   "mimetype": "text/x-python",
   "name": "python",
   "nbconvert_exporter": "python",
   "pygments_lexer": "ipython2",
   "version": "2.7.6"
  }
 },
 "nbformat": 4,
 "nbformat_minor": 5
}
