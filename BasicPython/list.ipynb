{
 "cells": [
  {
   "cell_type": "code",
   "execution_count": 3,
   "id": "f12293e6-5be4-4486-b405-23613f6b500d",
   "metadata": {},
   "outputs": [
    {
     "name": "stdout",
     "output_type": "stream",
     "text": [
      "3\n",
      "Sword\n",
      "Boots\n",
      "append('Hat'):      [Sword, Bread, Boots, Hat]\n",
      "insert(0, 'Knife'): [Knife, Sword, Bread, Boots, Hat]\n",
      "pop():              [Knife, Sword, Bread, Boots]\n",
      "remove('Sword'):    [Knife, Bread, Boots]\n",
      "pop(0):             [Bread, Boots]\n",
      "Bread, Boots\n",
      "clear():            []\n"
     ]
    }
   ],
   "source": [
    "# List functions\n",
    "inventory = ['Sword', 'Bread', 'Boots']\n",
    "print(len(inventory))\n",
    "print(max(inventory)) # maximum based on string so \"Sword\" is the maximum\n",
    "print(min(inventory)) # and vice versa\n",
    "\n",
    "desc_width = 20\n",
    "\n",
    "inventory.append('Hat')\n",
    "print(\"append('Hat'): \".ljust(desc_width) + '[' + ', '.join(inventory) + ']')\n",
    "\n",
    "inventory.insert(0, 'Knife')\n",
    "print(\"insert(0, 'Knife'): \".ljust(desc_width) + '[' + ', '.join(inventory) + ']')\n",
    "\n",
    "inventory.pop()\n",
    "print(\"pop(): \".ljust(desc_width) + '[' + ', '.join(inventory) + ']')\n",
    "\n",
    "inventory.remove('Sword')\n",
    "print(\"remove('Sword'): \".ljust(desc_width) + '[' + ', '.join(inventory) + ']')\n",
    "\n",
    "\n",
    "inventory.pop(0)\n",
    "print(\"pop(0): \".ljust(desc_width) + '[' + ', '.join(inventory) + ']')\n",
    "\n",
    "something = map(str, inventory)\n",
    "print(', '.join(something))\n",
    "\n",
    "\n",
    "inventory.clear()\n",
    "print(\"clear(): \".ljust(desc_width) + '[' + ', '.join(inventory) + ']')\n",
    "\n",
    "\n",
    "inventory = []"
   ]
  },
  {
   "cell_type": "code",
   "execution_count": 4,
   "id": "eb902e17-5c5c-40d0-bcb7-d601cfeabba4",
   "metadata": {},
   "outputs": [
    {
     "name": "stdout",
     "output_type": "stream",
     "text": [
      "universe.append([1, 2, 3, 4, 5]):       [1, 2, 3], [7, 8, 9], [199, 299], [1001, 2001, 3001], [1, 2, 3, 4, 5]\n",
      "universe[1].pop():                      [1, 2, 3], [7, 8], [199, 299], [1001, 2001, 3001], [1, 2, 3, 4, 5]\n"
     ]
    }
   ],
   "source": [
    "# 2D Lists\n",
    "def str_from_2dlist(lst):\n",
    "    flat_list = []\n",
    "    for sublist in lst:\n",
    "        flat_list.append(\"[\" + ', '.join(map(str,sublist)) + \"]\")\n",
    "    return \", \".join(map(str, flat_list))\n",
    "\n",
    "desc_width = 40\n",
    "\n",
    "universe = [[1, 2, 3],\n",
    "            [7, 8, 9],\n",
    "            [199, 299],\n",
    "            [1001, 2001, 3001]]\n",
    "ninth_world = universe[2][1]\n",
    "ninth_world = 5\n",
    "universe.append([1, 2, 3, 4, 5])\n",
    "print(\"universe.append([1, 2, 3, 4, 5]): \".ljust(desc_width) + str_from_2dlist(universe))\n",
    "universe[1].pop()\n",
    "print(\"universe[1].pop(): \".ljust(desc_width) + str_from_2dlist(universe))\n"
   ]
  }
 ],
 "metadata": {
  "kernelspec": {
   "display_name": "Python 3 (ipykernel)",
   "language": "python",
   "name": "python3"
  },
  "language_info": {
   "codemirror_mode": {
    "name": "ipython",
    "version": 3
   },
   "file_extension": ".py",
   "mimetype": "text/x-python",
   "name": "python",
   "nbconvert_exporter": "python",
   "pygments_lexer": "ipython3",
   "version": "3.10.12"
  }
 },
 "nbformat": 4,
 "nbformat_minor": 5
}
