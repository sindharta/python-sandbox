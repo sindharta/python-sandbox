{
 "cells": [
  {
   "cell_type": "code",
   "execution_count": 53,
   "id": "fc23fac5-394a-4e5e-92ba-d50fe6bb65f2",
   "metadata": {},
   "outputs": [
    {
     "name": "stdout",
     "output_type": "stream",
     "text": [
      "3\n",
      "Sword\n",
      "Boots\n"
     ]
    }
   ],
   "source": [
    "# Initialize\n",
    "inventory = ['Sword', 'Bread', 'Boots']\n",
    "desc_width = 20\n",
    "\n",
    "print(len(inventory))\n",
    "print(max(inventory)) # maximum based on string so \"Sword\" is the maximum\n",
    "print(min(inventory)) # and vice versa\n",
    "\n"
   ]
  },
  {
   "cell_type": "code",
   "execution_count": 49,
   "id": "052a1234-e2c1-4a60-a5ae-8ab9e8a10be8",
   "metadata": {},
   "outputs": [
    {
     "name": "stdout",
     "output_type": "stream",
     "text": [
      "append('Hat')       : [ Knife, Knife, Knife, Knife, Knife, Sword, Bread, Boots, Hat, Hat, Hat, Hat, Hat, Hat ]\n",
      "insert(0, 'Knife')  : [ Knife, Knife, Knife, Knife, Knife, Knife, Sword, Bread, Boots, Hat, Hat, Hat, Hat, Hat, Hat ]\n"
     ]
    }
   ],
   "source": [
    "# Adding elements\n",
    "inventory.append('Hat')\n",
    "print(\"{h0:{w0}}: [ {result} ]\".format(h0 = \"append('Hat')\", w0 = desc_width, result = ', '.join(inventory)))\n",
    "\n",
    "\n",
    "inventory.insert(0, 'Knife')\n",
    "print(\"{h0:{w0}}: [ {result} ]\".format(h0 = \"insert(0, 'Knife')\", w0 = desc_width, result = ', '.join(inventory)))\n",
    "\n"
   ]
  },
  {
   "cell_type": "code",
   "execution_count": 50,
   "id": "f12293e6-5be4-4486-b405-23613f6b500d",
   "metadata": {},
   "outputs": [
    {
     "name": "stdout",
     "output_type": "stream",
     "text": [
      "pop()               : [ Knife, Knife, Knife, Knife, Knife, Knife, Sword, Bread, Boots, Hat, Hat, Hat, Hat, Hat ]\n",
      "remove('Sword')     : [ Knife, Knife, Knife, Knife, Knife, Knife, Bread, Boots, Hat, Hat, Hat, Hat, Hat ]\n",
      "pop(0)              : [ Knife, Knife, Knife, Knife, Knife, Bread, Boots, Hat, Hat, Hat, Hat, Hat ]\n",
      "clear()             : [  ]\n"
     ]
    }
   ],
   "source": [
    "# Removing elements\n",
    "inventory.pop()\n",
    "print(\"{h0:{w0}}: [ {result} ]\".format(h0 = \"pop()\", w0 = desc_width, result = ', '.join(inventory)))\n",
    "\n",
    "inventory.remove('Sword')\n",
    "print(\"{h0:{w0}}: [ {result} ]\".format(h0 = \"remove('Sword')\", w0 = desc_width, result = ', '.join(inventory)))\n",
    "\n",
    "\n",
    "inventory.pop(0)\n",
    "print(\"{h0:{w0}}: [ {result} ]\".format(h0 = \"pop(0)\", w0 = desc_width, result = ', '.join(inventory)))\n",
    "\n",
    "inventory.clear()\n",
    "print(\"{h0:{w0}}: [ {result} ]\".format(h0 = \"clear()\", w0 = desc_width, result = ', '.join(inventory)))\n",
    "\n",
    "\n",
    "inventory = []"
   ]
  },
  {
   "cell_type": "code",
   "execution_count": 4,
   "id": "eb902e17-5c5c-40d0-bcb7-d601cfeabba4",
   "metadata": {},
   "outputs": [
    {
     "name": "stdout",
     "output_type": "stream",
     "text": [
      "universe.append([1, 2, 3, 4, 5]):       [1, 2, 3], [7, 8, 9], [199, 299], [1001, 2001, 3001], [1, 2, 3, 4, 5]\n",
      "universe[1].pop():                      [1, 2, 3], [7, 8], [199, 299], [1001, 2001, 3001], [1, 2, 3, 4, 5]\n"
     ]
    }
   ],
   "source": [
    "# 2D Lists\n",
    "def str_from_2dlist(lst):\n",
    "    flat_list = []\n",
    "    for sublist in lst:\n",
    "        flat_list.append(\"[\" + ', '.join(map(str,sublist)) + \"]\")\n",
    "    return \", \".join(map(str, flat_list))\n",
    "\n",
    "desc_width = 40\n",
    "\n",
    "universe = [[1, 2, 3],\n",
    "            [7, 8, 9],\n",
    "            [199, 299],\n",
    "            [1001, 2001, 3001]]\n",
    "ninth_world = universe[2][1]\n",
    "ninth_world = 5\n",
    "universe.append([1, 2, 3, 4, 5])\n",
    "print(\"universe.append([1, 2, 3, 4, 5]): \".ljust(desc_width) + str_from_2dlist(universe))\n",
    "universe[1].pop()\n",
    "print(\"universe[1].pop(): \".ljust(desc_width) + str_from_2dlist(universe))\n"
   ]
  }
 ],
 "metadata": {
  "kernelspec": {
   "display_name": "Python 3 (ipykernel)",
   "language": "python",
   "name": "python3"
  },
  "language_info": {
   "codemirror_mode": {
    "name": "ipython",
    "version": 3
   },
   "file_extension": ".py",
   "mimetype": "text/x-python",
   "name": "python",
   "nbconvert_exporter": "python",
   "pygments_lexer": "ipython3",
   "version": "3.10.12"
  }
 },
 "nbformat": 4,
 "nbformat_minor": 5
}
