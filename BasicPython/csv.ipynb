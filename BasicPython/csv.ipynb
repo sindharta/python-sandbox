{
 "cells": [
  {
   "cell_type": "code",
   "execution_count": 1,
   "id": "initial_id",
   "metadata": {
    "ExecuteTime": {
     "end_time": "2023-09-11T02:40:47.837116200Z",
     "start_time": "2023-09-11T02:40:47.438081Z"
    }
   },
   "outputs": [
    {
     "name": "stdout",
     "output_type": "stream",
     "text": [
      "['US', '99553', 'Akutan', 'Alaska', 'AK', 'Aleutians East', '013', '54.143', '-165.7854', '1']\n",
      "['US', '99571', 'Cold Bay', 'Alaska', 'AK', 'Aleutians East', '013', '55.1858', '-162.7211', '1']\n",
      "['US', '99583', 'False Pass', 'Alaska', 'AK', 'Aleutians East', '013', '54.8542', '-163.4113', '1']\n",
      "['US', '99612', 'King Cove', 'Alaska', 'AK', 'Aleutians East', '013', '55.0628', '-162.3056', '1']\n",
      "['US', '99661', 'Sand Point', 'Alaska', 'AK', 'Aleutians East', '013', '55.3192', '-160.4914', '1']\n",
      "['US', '99546', 'Adak', 'Alaska', 'AK', 'Aleutians West (CA)', '016', '51.874', '-176.634', '1']\n",
      "['US', '99547', 'Atka', 'Alaska', 'AK', 'Aleutians West (CA)', '016', '52.1961', '-174.2006', '1']\n",
      "['US', '99591', 'Saint George Island', 'Alaska', 'AK', 'Aleutians West (CA)', '016', '56.5944', '-169.6186', '1']\n",
      "['US', '99638', 'Nikolski', 'Alaska', 'AK', 'Aleutians West (CA)', '016', '52.9381', '-168.8678', '1']\n",
      "['US', '99660', 'Saint Paul Island', 'Alaska', 'AK', 'Aleutians West (CA)', '016', '57.1842', '-170.2764', '1']\n",
      "['US', '99685', 'Unalaska', 'Alaska', 'AK', 'Aleutians West (CA)', '016', '53.8871', '-166.5199', '1']\n",
      "['US', '99692', 'Dutch Harbor', 'Alaska', 'AK', 'Aleutians West (CA)', '016', '53.8898', '-166.5422', '1']\n",
      "['US', '99501', 'Anchorage', 'Alaska', 'AK', 'Anchorage Municipality', '020', '61.2116', '-149.8761', '1']\n",
      "['US', '99502', 'Anchorage', 'Alaska', 'AK', 'Anchorage Municipality', '020', '61.1661', '-149.96', '1']\n",
      "['US', '99503', 'Anchorage', 'Alaska', 'AK', 'Anchorage Municipality', '020', '61.19', '-149.8938', '1']\n",
      "['US', '99504', 'Anchorage', 'Alaska', 'AK', 'Anchorage Municipality', '020', '61.2037', '-149.7447', '1']\n",
      "['US', '99505', 'Jber', 'Alaska', 'AK', 'Anchorage Municipality', '020', '59.8666', '-158.5996', '1']\n",
      "['US', '99506', 'Jber', 'Alaska', 'AK', 'Anchorage Municipality', '020', '59.8666', '-158.5996', '1']\n",
      "['US', '99507', 'Anchorage', 'Alaska', 'AK', 'Anchorage Municipality', '020', '61.1535', '-149.8289', '1']\n",
      "['US', '99508', 'Anchorage', 'Alaska', 'AK', 'Anchorage Municipality', '020', '61.206', '-149.8101', '1']\n",
      "['US', '99509', 'Anchorage', 'Alaska', 'AK', 'Anchorage Municipality', '020', '61.2181', '-149.9003', '1']\n",
      "['US', '99510', 'Anchorage', 'Alaska', 'AK', 'Anchorage Municipality', '020', '61.1446', '-149.8784', '1']\n",
      "['US', '99511', 'Anchorage', 'Alaska', 'AK', 'Anchorage Municipality', '020', '61.0683', '-149.8005', '1']\n",
      "['US', '99513', 'Anchorage', 'Alaska', 'AK', 'Anchorage Municipality', '020', '61.2149', '-149.8862', '1']\n",
      "['US', '99514', 'Anchorage', 'Alaska', 'AK', 'Anchorage Municipality', '020', '61.2181', '-149.9003', '1']\n",
      "['US', '99515', 'Anchorage', 'Alaska', 'AK', 'Anchorage Municipality', '020', '61.1194', '-149.8974', '1']\n",
      "['US', '99516', 'Anchorage', 'Alaska', 'AK', 'Anchorage Municipality', '020', '61.1054', '-149.78', '1']\n",
      "['US', '99517', 'Anchorage', 'Alaska', 'AK', 'Anchorage Municipality', '020', '61.1901', '-149.9361', '1']\n",
      "['US', '99518', 'Anchorage', 'Alaska', 'AK', 'Anchorage Municipality', '020', '61.1549', '-149.8866', '1']\n"
     ]
    }
   ],
   "source": [
    "import csv\n",
    "\n",
    "with open('us_postal_code.csv','r') as f:\n",
    "    reader = csv.reader(f, delimiter='\\t')\n",
    "    next(reader)\n",
    "    for row in reader:\n",
    "        print(row)\n",
    "\n"
   ]
  },
  {
   "cell_type": "code",
   "execution_count": 12,
   "id": "d64354fa",
   "metadata": {},
   "outputs": [
    {
     "name": "stdout",
     "output_type": "stream",
     "text": [
      "{'country': 'US', 'postal code': '99660', 'place name': 'Saint Paul Island', 'state': 'Alaska', 'state code': 'AK', 'county': 'Aleutians West (CA)', 'county code': '016', 'latitude': '57.1842', 'longitude': '-170.2764', 'accuracy': '1'}\n",
      "{'country': 'US', 'postal code': '99685', 'place name': 'Unalaska', 'state': 'Alaska', 'state code': 'AK', 'county': 'Aleutians West (CA)', 'county code': '016', 'latitude': '53.8871', 'longitude': '-166.5199', 'accuracy': '1'}\n",
      "{'country': 'US', 'postal code': '99505', 'place name': 'Jber', 'state': 'Alaska', 'state code': 'AK', 'county': 'Anchorage Municipality', 'county code': '020', 'latitude': '59.8666', 'longitude': '-158.5996', 'accuracy': '1'}\n",
      "{'country': 'US', 'postal code': '99510', 'place name': 'Anchorage', 'state': 'Alaska', 'state code': 'AK', 'county': 'Anchorage Municipality', 'county code': '020', 'latitude': '61.1446', 'longitude': '-149.8784', 'accuracy': '1'}\n",
      "{'country': 'US', 'postal code': '99515', 'place name': 'Anchorage', 'state': 'Alaska', 'state code': 'AK', 'county': 'Anchorage Municipality', 'county code': '020', 'latitude': '61.1194', 'longitude': '-149.8974', 'accuracy': '1'}\n"
     ]
    }
   ],
   "source": [
    "# DictReader\n",
    "desiredRealEstates = []\n",
    "\n",
    "with open('us_postal_code.csv','r') as f:\n",
    "    reader = csv.DictReader(f, delimiter='\\t')\n",
    "    for row in reader:\n",
    "        if int(row['postal code']) % 5 == 0:\n",
    "            desiredRealEstates.append(row)\n",
    "\n",
    "for estate in desiredRealEstates:\n",
    "    print(estate)"
   ]
  },
  {
   "cell_type": "code",
   "execution_count": 6,
   "id": "20c4eb11",
   "metadata": {},
   "outputs": [
    {
     "name": "stdout",
     "output_type": "stream",
     "text": [
      "{'country': 'US', 'postal code': '99553', 'place name': 'Akutan', 'state': 'Alaska', 'state code': 'AK', 'county': 'Aleutians East', 'county code': '013', 'latitude': '54.143', 'longitude': '-165.7854', 'accuracy': '1'}\n",
      "{'country': 'US', 'postal code': '99571', 'place name': 'Cold Bay', 'state': 'Alaska', 'state code': 'AK', 'county': 'Aleutians East', 'county code': '013', 'latitude': '55.1858', 'longitude': '-162.7211', 'accuracy': '1'}\n",
      "{'country': 'US', 'postal code': '99583', 'place name': 'False Pass', 'state': 'Alaska', 'state code': 'AK', 'county': 'Aleutians East', 'county code': '013', 'latitude': '54.8542', 'longitude': '-163.4113', 'accuracy': '1'}\n",
      "{'country': 'US', 'postal code': '99612', 'place name': 'King Cove', 'state': 'Alaska', 'state code': 'AK', 'county': 'Aleutians East', 'county code': '013', 'latitude': '55.0628', 'longitude': '-162.3056', 'accuracy': '1'}\n",
      "{'country': 'US', 'postal code': '99661', 'place name': 'Sand Point', 'state': 'Alaska', 'state code': 'AK', 'county': 'Aleutians East', 'county code': '013', 'latitude': '55.3192', 'longitude': '-160.4914', 'accuracy': '1'}\n",
      "{'country': 'US', 'postal code': '99546', 'place name': 'Adak', 'state': 'Alaska', 'state code': 'AK', 'county': 'Aleutians West (CA)', 'county code': '016', 'latitude': '51.874', 'longitude': '-176.634', 'accuracy': '1'}\n",
      "{'country': 'US', 'postal code': '99547', 'place name': 'Atka', 'state': 'Alaska', 'state code': 'AK', 'county': 'Aleutians West (CA)', 'county code': '016', 'latitude': '52.1961', 'longitude': '-174.2006', 'accuracy': '1'}\n",
      "{'country': 'US', 'postal code': '99591', 'place name': 'Saint George Island', 'state': 'Alaska', 'state code': 'AK', 'county': 'Aleutians West (CA)', 'county code': '016', 'latitude': '56.5944', 'longitude': '-169.6186', 'accuracy': '1'}\n",
      "{'country': 'US', 'postal code': '99638', 'place name': 'Nikolski', 'state': 'Alaska', 'state code': 'AK', 'county': 'Aleutians West (CA)', 'county code': '016', 'latitude': '52.9381', 'longitude': '-168.8678', 'accuracy': '1'}\n",
      "{'country': 'US', 'postal code': '99660', 'place name': 'Saint Paul Island', 'state': 'Alaska', 'state code': 'AK', 'county': 'Aleutians West (CA)', 'county code': '016', 'latitude': '57.1842', 'longitude': '-170.2764', 'accuracy': '1'}\n",
      "{'country': 'US', 'postal code': '99685', 'place name': 'Unalaska', 'state': 'Alaska', 'state code': 'AK', 'county': 'Aleutians West (CA)', 'county code': '016', 'latitude': '53.8871', 'longitude': '-166.5199', 'accuracy': '1'}\n",
      "{'country': 'US', 'postal code': '99692', 'place name': 'Dutch Harbor', 'state': 'Alaska', 'state code': 'AK', 'county': 'Aleutians West (CA)', 'county code': '016', 'latitude': '53.8898', 'longitude': '-166.5422', 'accuracy': '1'}\n",
      "{'country': 'US', 'postal code': '99501', 'place name': 'Anchorage', 'state': 'Alaska', 'state code': 'AK', 'county': 'Anchorage Municipality', 'county code': '020', 'latitude': '61.2116', 'longitude': '-149.8761', 'accuracy': '1'}\n",
      "{'country': 'US', 'postal code': '99502', 'place name': 'Anchorage', 'state': 'Alaska', 'state code': 'AK', 'county': 'Anchorage Municipality', 'county code': '020', 'latitude': '61.1661', 'longitude': '-149.96', 'accuracy': '1'}\n",
      "{'country': 'US', 'postal code': '99503', 'place name': 'Anchorage', 'state': 'Alaska', 'state code': 'AK', 'county': 'Anchorage Municipality', 'county code': '020', 'latitude': '61.19', 'longitude': '-149.8938', 'accuracy': '1'}\n",
      "{'country': 'US', 'postal code': '99504', 'place name': 'Anchorage', 'state': 'Alaska', 'state code': 'AK', 'county': 'Anchorage Municipality', 'county code': '020', 'latitude': '61.2037', 'longitude': '-149.7447', 'accuracy': '1'}\n",
      "{'country': 'US', 'postal code': '99505', 'place name': 'Jber', 'state': 'Alaska', 'state code': 'AK', 'county': 'Anchorage Municipality', 'county code': '020', 'latitude': '59.8666', 'longitude': '-158.5996', 'accuracy': '1'}\n",
      "{'country': 'US', 'postal code': '99506', 'place name': 'Jber', 'state': 'Alaska', 'state code': 'AK', 'county': 'Anchorage Municipality', 'county code': '020', 'latitude': '59.8666', 'longitude': '-158.5996', 'accuracy': '1'}\n",
      "{'country': 'US', 'postal code': '99507', 'place name': 'Anchorage', 'state': 'Alaska', 'state code': 'AK', 'county': 'Anchorage Municipality', 'county code': '020', 'latitude': '61.1535', 'longitude': '-149.8289', 'accuracy': '1'}\n",
      "{'country': 'US', 'postal code': '99508', 'place name': 'Anchorage', 'state': 'Alaska', 'state code': 'AK', 'county': 'Anchorage Municipality', 'county code': '020', 'latitude': '61.206', 'longitude': '-149.8101', 'accuracy': '1'}\n",
      "{'country': 'US', 'postal code': '99509', 'place name': 'Anchorage', 'state': 'Alaska', 'state code': 'AK', 'county': 'Anchorage Municipality', 'county code': '020', 'latitude': '61.2181', 'longitude': '-149.9003', 'accuracy': '1'}\n",
      "{'country': 'US', 'postal code': '99510', 'place name': 'Anchorage', 'state': 'Alaska', 'state code': 'AK', 'county': 'Anchorage Municipality', 'county code': '020', 'latitude': '61.1446', 'longitude': '-149.8784', 'accuracy': '1'}\n",
      "{'country': 'US', 'postal code': '99511', 'place name': 'Anchorage', 'state': 'Alaska', 'state code': 'AK', 'county': 'Anchorage Municipality', 'county code': '020', 'latitude': '61.0683', 'longitude': '-149.8005', 'accuracy': '1'}\n",
      "{'country': 'US', 'postal code': '99513', 'place name': 'Anchorage', 'state': 'Alaska', 'state code': 'AK', 'county': 'Anchorage Municipality', 'county code': '020', 'latitude': '61.2149', 'longitude': '-149.8862', 'accuracy': '1'}\n",
      "{'country': 'US', 'postal code': '99514', 'place name': 'Anchorage', 'state': 'Alaska', 'state code': 'AK', 'county': 'Anchorage Municipality', 'county code': '020', 'latitude': '61.2181', 'longitude': '-149.9003', 'accuracy': '1'}\n",
      "{'country': 'US', 'postal code': '99515', 'place name': 'Anchorage', 'state': 'Alaska', 'state code': 'AK', 'county': 'Anchorage Municipality', 'county code': '020', 'latitude': '61.1194', 'longitude': '-149.8974', 'accuracy': '1'}\n",
      "{'country': 'US', 'postal code': '99516', 'place name': 'Anchorage', 'state': 'Alaska', 'state code': 'AK', 'county': 'Anchorage Municipality', 'county code': '020', 'latitude': '61.1054', 'longitude': '-149.78', 'accuracy': '1'}\n",
      "{'country': 'US', 'postal code': '99517', 'place name': 'Anchorage', 'state': 'Alaska', 'state code': 'AK', 'county': 'Anchorage Municipality', 'county code': '020', 'latitude': '61.1901', 'longitude': '-149.9361', 'accuracy': '1'}\n",
      "{'country': 'US', 'postal code': '99518', 'place name': 'Anchorage', 'state': 'Alaska', 'state code': 'AK', 'county': 'Anchorage Municipality', 'county code': '020', 'latitude': '61.1549', 'longitude': '-149.8866', 'accuracy': '1'}\n"
     ]
    }
   ],
   "source": [
    "# DictReader\n",
    "with open('us_postal_code.csv','r') as f:\n",
    "    readerList = list(csv.DictReader(f, delimiter='\\t'))\n",
    "    for row in readerList:\n",
    "        print(row)"
   ]
  }
 ],
 "metadata": {
  "kernelspec": {
   "display_name": "Python 3",
   "language": "python",
   "name": "python3"
  },
  "language_info": {
   "codemirror_mode": {
    "name": "ipython",
    "version": 3
   },
   "file_extension": ".py",
   "mimetype": "text/x-python",
   "name": "python",
   "nbconvert_exporter": "python",
   "pygments_lexer": "ipython3",
   "version": "3.10.9"
  }
 },
 "nbformat": 4,
 "nbformat_minor": 5
}
