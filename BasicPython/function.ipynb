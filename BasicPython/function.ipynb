{
 "cells": [
  {
   "cell_type": "code",
   "execution_count": 21,
   "id": "initial_id",
   "metadata": {
    "collapsed": true,
    "ExecuteTime": {
     "end_time": "2023-09-04T07:20:36.294229800Z",
     "start_time": "2023-09-04T07:20:36.281232600Z"
    }
   },
   "outputs": [],
   "source": [
    "import random\n",
    "import time\n",
    "\n",
    "servicesAreUp = True\n",
    "\n",
    "def getData50():\n",
    "    if servicesAreUp and random.random() < 0.5:\n",
    "        return 'You got the data! That only happens 50% of the time!'\n",
    "\n",
    "def getData25():\n",
    "    if servicesAreUp and random.random() < 0.25:\n",
    "        return 'You got the data! That only happens 25% of the time!'    \n",
    "\n",
    "def getData10():\n",
    "    if servicesAreUp and random.random() < 0.1:\n",
    "        return 'You got the data! That only happens 10% of the time!'\n",
    "    "
   ]
  },
  {
   "cell_type": "code",
   "execution_count": 15,
   "outputs": [],
   "source": [
    "def getWithRetry(dataFunc):\n",
    "    startTime = time.time()\n",
    "    TIMEOUT = 5\n",
    "    retryTime = 1\n",
    "    while (time.time() - startTime <= TIMEOUT): \n",
    "        data = dataFunc()\n",
    "        if (data):\n",
    "            return data\n",
    "        \n",
    "        time.sleep(1)\n",
    "        print(f\"Function failed. Retrying: {retryTime}\")\n",
    "        retryTime += 1        \n",
    "        \n",
    "    return None\n"
   ],
   "metadata": {
    "collapsed": false,
    "ExecuteTime": {
     "end_time": "2023-09-04T07:19:30.396868600Z",
     "start_time": "2023-09-04T07:19:30.385869800Z"
    }
   },
   "id": "3ff8aa22b4b27388"
  },
  {
   "cell_type": "code",
   "execution_count": 23,
   "outputs": [
    {
     "data": {
      "text/plain": "'You got the data! That only happens 50% of the time!'"
     },
     "execution_count": 23,
     "metadata": {},
     "output_type": "execute_result"
    }
   ],
   "source": [
    "getWithRetry(getData50)"
   ],
   "metadata": {
    "collapsed": false,
    "ExecuteTime": {
     "end_time": "2023-09-04T07:21:04.202871500Z",
     "start_time": "2023-09-04T07:21:04.172852300Z"
    }
   },
   "id": "e1d54aa988ec486f"
  },
  {
   "cell_type": "code",
   "execution_count": 24,
   "outputs": [
    {
     "name": "stdout",
     "output_type": "stream",
     "text": [
      "Function failed. Retrying: 1\n",
      "Function failed. Retrying: 2\n"
     ]
    },
    {
     "data": {
      "text/plain": "'You got the data! That only happens 25% of the time!'"
     },
     "execution_count": 24,
     "metadata": {},
     "output_type": "execute_result"
    }
   ],
   "source": [
    "getWithRetry(getData25)"
   ],
   "metadata": {
    "collapsed": false,
    "ExecuteTime": {
     "end_time": "2023-09-04T07:21:09.391416400Z",
     "start_time": "2023-09-04T07:21:07.353494800Z"
    }
   },
   "id": "ee603e7cb4a3a76f"
  },
  {
   "cell_type": "code",
   "execution_count": 10,
   "outputs": [
    {
     "data": {
      "text/plain": "'You got the data! That only happens 10% of the time!'"
     },
     "execution_count": 10,
     "metadata": {},
     "output_type": "execute_result"
    }
   ],
   "source": [
    "getWithRetry(getData10)"
   ],
   "metadata": {
    "collapsed": false,
    "ExecuteTime": {
     "end_time": "2023-09-04T07:17:03.091947600Z",
     "start_time": "2023-09-04T07:17:03.077950400Z"
    }
   },
   "id": "1e1da27ca8c3f2e4"
  },
  {
   "cell_type": "code",
   "execution_count": 11,
   "outputs": [],
   "source": [
    "servicesAreUp = False"
   ],
   "metadata": {
    "collapsed": false,
    "ExecuteTime": {
     "end_time": "2023-09-04T07:17:31.387216300Z",
     "start_time": "2023-09-04T07:17:31.369216Z"
    }
   },
   "id": "cfffc5e89e149ca2"
  },
  {
   "cell_type": "code",
   "execution_count": 16,
   "outputs": [
    {
     "name": "stdout",
     "output_type": "stream",
     "text": [
      "Function failed. Retrying: 1\n",
      "Function failed. Retrying: 2\n",
      "Function failed. Retrying: 3\n",
      "Function failed. Retrying: 4\n",
      "Function failed. Retrying: 5\n"
     ]
    }
   ],
   "source": [
    "# Returns None\n",
    "getWithRetry(getData50)"
   ],
   "metadata": {
    "collapsed": false,
    "ExecuteTime": {
     "end_time": "2023-09-04T07:19:38.157190300Z",
     "start_time": "2023-09-04T07:19:33.085155100Z"
    }
   },
   "id": "bc3cdc051131e58e"
  },
  {
   "cell_type": "code",
   "execution_count": null,
   "outputs": [],
   "source": [],
   "metadata": {
    "collapsed": false
   },
   "id": "189ad882417cbeb9"
  },
  {
   "cell_type": "code",
   "execution_count": 17,
   "outputs": [],
   "source": [
    "def getData50():\n",
    "    time.sleep(.1)\n",
    "    if servicesAreUp and random.random() < 0.5:\n",
    "        return 'You got the data! That only happens 50% of the time!'\n",
    "\n",
    "def getData25():\n",
    "    time.sleep(.1)\n",
    "    if servicesAreUp and random.random() < 0.25:\n",
    "        return 'You got the data! That only happens 25% of the time!'    \n",
    "\n",
    "def getData10():\n",
    "    time.sleep(.1)\n",
    "    if servicesAreUp and random.random() < 0.1:\n",
    "        return 'You got the data! That only happens 10% of the time!'"
   ],
   "metadata": {
    "collapsed": false,
    "ExecuteTime": {
     "end_time": "2023-09-04T07:20:02.964897400Z",
     "start_time": "2023-09-04T07:20:02.951141Z"
    }
   },
   "id": "7a0093d84c796c42"
  },
  {
   "cell_type": "code",
   "execution_count": 25,
   "outputs": [
    {
     "name": "stdout",
     "output_type": "stream",
     "text": [
      "Function failed. Retrying: 1\n"
     ]
    },
    {
     "data": {
      "text/plain": "'You got the data! That only happens 10% of the time!'"
     },
     "execution_count": 25,
     "metadata": {},
     "output_type": "execute_result"
    }
   ],
   "source": [
    "getWithRetry(getData10)"
   ],
   "metadata": {
    "collapsed": false,
    "ExecuteTime": {
     "end_time": "2023-09-04T07:21:14.925355100Z",
     "start_time": "2023-09-04T07:21:13.909409Z"
    }
   },
   "id": "d91c0519bcfe6257"
  }
 ],
 "metadata": {
  "kernelspec": {
   "display_name": "Python 3",
   "language": "python",
   "name": "python3"
  },
  "language_info": {
   "codemirror_mode": {
    "name": "ipython",
    "version": 2
   },
   "file_extension": ".py",
   "mimetype": "text/x-python",
   "name": "python",
   "nbconvert_exporter": "python",
   "pygments_lexer": "ipython2",
   "version": "2.7.6"
  }
 },
 "nbformat": 4,
 "nbformat_minor": 5
}
