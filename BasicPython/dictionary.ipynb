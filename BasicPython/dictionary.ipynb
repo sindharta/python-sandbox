{
 "cells": [
  {
   "cell_type": "code",
   "execution_count": 3,
   "id": "initial_id",
   "metadata": {
    "ExecuteTime": {
     "end_time": "2023-09-11T02:15:25.005482700Z",
     "start_time": "2023-09-11T02:15:24.990481700Z"
    }
   },
   "outputs": [
    {
     "name": "stdout",
     "output_type": "stream",
     "text": [
      "{1: ['i', 'a'], '2': ['we', 'be', 'it'], 3: ['are', 'few', 'too']}\n"
     ]
    }
   ],
   "source": [
    "# Dictionary comprehension\n",
    "\n",
    "values = [[1, 'i', 'a'], ['2', 'we', 'be', 'it'], [3, 'are', 'few', 'too']]\n",
    "\n",
    "myDict = {item[0]: item[1::] for item in values}\n",
    "print(myDict)"
   ]
  },
  {
   "cell_type": "code",
   "execution_count": 5,
   "id": "e553d97a2f33ceec",
   "metadata": {
    "ExecuteTime": {
     "end_time": "2023-09-11T02:15:25.030483200Z",
     "start_time": "2023-09-11T02:15:25.008482900Z"
    }
   },
   "outputs": [
    {
     "name": "stdout",
     "output_type": "stream",
     "text": [
      "[1, '2', 3]\n"
     ]
    }
   ],
   "source": [
    "\n",
    "\n",
    "myList = list(myDict)\n",
    "print(myList)\n",
    "\n"
   ]
  },
  {
   "cell_type": "code",
   "execution_count": 6,
   "id": "25a5ee63f3c899fe",
   "metadata": {
    "is_executing": true
   },
   "outputs": [
    {
     "name": "stdout",
     "output_type": "stream",
     "text": [
      "{1: ['i', 'a'], '2': ['we', 'be', 'it'], 3: ['are', 'few', 'too']}\n"
     ]
    }
   ],
   "source": [
    "print(myDict)"
   ]
  }
 ],
 "metadata": {
  "kernelspec": {
   "display_name": "Python 3",
   "language": "python",
   "name": "python3"
  },
  "language_info": {
   "codemirror_mode": {
    "name": "ipython",
    "version": 3
   },
   "file_extension": ".py",
   "mimetype": "text/x-python",
   "name": "python",
   "nbconvert_exporter": "python",
   "pygments_lexer": "ipython3",
   "version": "3.10.9"
  }
 },
 "nbformat": 4,
 "nbformat_minor": 5
}
